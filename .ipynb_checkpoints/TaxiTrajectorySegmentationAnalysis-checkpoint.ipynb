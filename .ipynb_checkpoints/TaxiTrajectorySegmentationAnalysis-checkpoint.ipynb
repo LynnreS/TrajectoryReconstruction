{
 "cells": [
  {
   "cell_type": "code",
   "execution_count": 1,
   "metadata": {},
   "outputs": [],
   "source": [
    "# import libraries\n",
    "import pandas as pd\n",
    "import numpy as np\n",
    "import matplotlib.pyplot as plt\n",
    "import os\n",
    "from sklearn.preprocessing import StandardScaler\n",
    "from dateutil import rrule\n",
    "import datetime\n",
    "from sklearn.metrics import silhouette_samples, silhouette_score\n",
    "import matplotlib.cm as cm\n",
    "import numpy as np\n",
    "from scipy.spatial.distance import cdist, pdist\n",
    "from sklearn.cluster import KMeans\n",
    "import shutil\n",
    "import datetime as dt\n",
    "from IPython.display import display, clear_output\n",
    "import geopy.distance as distance\n",
    "%matplotlib inline"
   ]
  },
  {
   "cell_type": "markdown",
   "metadata": {},
   "source": [
    "## Part 1: Analysis of Main Data (Before Splitting to Trips)"
   ]
  },
  {
   "cell_type": "code",
   "execution_count": 2,
   "metadata": {},
   "outputs": [
    {
     "data": {
      "text/html": [
       "<div>\n",
       "<style scoped>\n",
       "    .dataframe tbody tr th:only-of-type {\n",
       "        vertical-align: middle;\n",
       "    }\n",
       "\n",
       "    .dataframe tbody tr th {\n",
       "        vertical-align: top;\n",
       "    }\n",
       "\n",
       "    .dataframe thead th {\n",
       "        text-align: right;\n",
       "    }\n",
       "</style>\n",
       "<table border=\"1\" class=\"dataframe\">\n",
       "  <thead>\n",
       "    <tr style=\"text-align: right;\">\n",
       "      <th></th>\n",
       "      <th>Unnamed: 0</th>\n",
       "      <th>Unnamed: 0.1</th>\n",
       "      <th>MMSI</th>\n",
       "      <th>BaseDateTime</th>\n",
       "      <th>LAT</th>\n",
       "      <th>LON</th>\n",
       "      <th>Heading</th>\n",
       "      <th>TimeDiff</th>\n",
       "      <th>mmsiDiff</th>\n",
       "      <th>Dist</th>\n",
       "      <th>Speed</th>\n",
       "      <th>Stationary</th>\n",
       "      <th>trip_id</th>\n",
       "    </tr>\n",
       "  </thead>\n",
       "  <tbody>\n",
       "    <tr>\n",
       "      <th>0</th>\n",
       "      <td>0</td>\n",
       "      <td>0</td>\n",
       "      <td>1</td>\n",
       "      <td>2017-07-26 13:53:47</td>\n",
       "      <td>41.34732</td>\n",
       "      <td>-72.08659</td>\n",
       "      <td>511.0</td>\n",
       "      <td>0.0</td>\n",
       "      <td>False</td>\n",
       "      <td>0.000000</td>\n",
       "      <td>0.000000</td>\n",
       "      <td>True</td>\n",
       "      <td>1</td>\n",
       "    </tr>\n",
       "    <tr>\n",
       "      <th>1</th>\n",
       "      <td>1</td>\n",
       "      <td>1</td>\n",
       "      <td>1</td>\n",
       "      <td>2017-07-26 13:58:56</td>\n",
       "      <td>41.34495</td>\n",
       "      <td>-72.09024</td>\n",
       "      <td>511.0</td>\n",
       "      <td>309.0</td>\n",
       "      <td>True</td>\n",
       "      <td>0.403237</td>\n",
       "      <td>4.697909</td>\n",
       "      <td>False</td>\n",
       "      <td>1</td>\n",
       "    </tr>\n",
       "    <tr>\n",
       "      <th>2</th>\n",
       "      <td>2</td>\n",
       "      <td>2</td>\n",
       "      <td>1</td>\n",
       "      <td>2017-07-26 14:09:38</td>\n",
       "      <td>41.34772</td>\n",
       "      <td>-72.08780</td>\n",
       "      <td>511.0</td>\n",
       "      <td>642.0</td>\n",
       "      <td>True</td>\n",
       "      <td>0.369247</td>\n",
       "      <td>2.070544</td>\n",
       "      <td>False</td>\n",
       "      <td>1</td>\n",
       "    </tr>\n",
       "    <tr>\n",
       "      <th>3</th>\n",
       "      <td>3</td>\n",
       "      <td>3</td>\n",
       "      <td>1</td>\n",
       "      <td>2017-07-26 14:13:07</td>\n",
       "      <td>41.34506</td>\n",
       "      <td>-72.09026</td>\n",
       "      <td>511.0</td>\n",
       "      <td>209.0</td>\n",
       "      <td>True</td>\n",
       "      <td>0.360087</td>\n",
       "      <td>6.202450</td>\n",
       "      <td>False</td>\n",
       "      <td>1</td>\n",
       "    </tr>\n",
       "    <tr>\n",
       "      <th>4</th>\n",
       "      <td>4</td>\n",
       "      <td>4</td>\n",
       "      <td>1</td>\n",
       "      <td>2017-07-26 14:22:08</td>\n",
       "      <td>41.34519</td>\n",
       "      <td>-72.08949</td>\n",
       "      <td>511.0</td>\n",
       "      <td>541.0</td>\n",
       "      <td>True</td>\n",
       "      <td>0.066042</td>\n",
       "      <td>0.439469</td>\n",
       "      <td>False</td>\n",
       "      <td>1</td>\n",
       "    </tr>\n",
       "  </tbody>\n",
       "</table>\n",
       "</div>"
      ],
      "text/plain": [
       "   Unnamed: 0  Unnamed: 0.1  MMSI         BaseDateTime       LAT       LON  \\\n",
       "0           0             0     1  2017-07-26 13:53:47  41.34732 -72.08659   \n",
       "1           1             1     1  2017-07-26 13:58:56  41.34495 -72.09024   \n",
       "2           2             2     1  2017-07-26 14:09:38  41.34772 -72.08780   \n",
       "3           3             3     1  2017-07-26 14:13:07  41.34506 -72.09026   \n",
       "4           4             4     1  2017-07-26 14:22:08  41.34519 -72.08949   \n",
       "\n",
       "   Heading  TimeDiff  mmsiDiff      Dist     Speed  Stationary  trip_id  \n",
       "0    511.0       0.0     False  0.000000  0.000000        True        1  \n",
       "1    511.0     309.0      True  0.403237  4.697909       False        1  \n",
       "2    511.0     642.0      True  0.369247  2.070544       False        1  \n",
       "3    511.0     209.0      True  0.360087  6.202450       False        1  \n",
       "4    511.0     541.0      True  0.066042  0.439469       False        1  "
      ]
     },
     "execution_count": 2,
     "metadata": {},
     "output_type": "execute_result"
    }
   ],
   "source": [
    "# import data\n",
    "df_tripMain = pd.read_csv('/scratch/skp454/Trajectory/data/20190621_AISTripMainData.csv')\n",
    "df_tripMain.head()"
   ]
  },
  {
   "cell_type": "markdown",
   "metadata": {},
   "source": [
    "### Part 1.0: Trajectory and Data Points"
   ]
  },
  {
   "cell_type": "markdown",
   "metadata": {},
   "source": [
    "Here we check the number of vessels/trajectories in our dataset, and the distribution of the number of data points corresponding to each trajectories."
   ]
  },
  {
   "cell_type": "code",
   "execution_count": 3,
   "metadata": {},
   "outputs": [
    {
     "name": "stdout",
     "output_type": "stream",
     "text": [
      "Total Number of Trajectories: 7209\n",
      "Total Number of Data Points: 35.775215 Millions\n"
     ]
    }
   ],
   "source": [
    "# Number of trajectories and data points\n",
    "print('Total Number of Trajectories:', len(df_tripMain.MMSI.unique()))\n",
    "print('Total Number of Data Points:', len(df_tripMain)/1000000, \"Millions\")"
   ]
  },
  {
   "cell_type": "markdown",
   "metadata": {},
   "source": [
    "**We have 7209 traj and 35million data points**\n",
    "\n",
    "Roughly we have 5000 points per trajectory"
   ]
  },
  {
   "cell_type": "code",
   "execution_count": 8,
   "metadata": {},
   "outputs": [
    {
     "name": "stdout",
     "output_type": "stream",
     "text": [
      "Data Points per Trajectory\n"
     ]
    },
    {
     "data": {
      "text/html": [
       "<div>\n",
       "<style scoped>\n",
       "    .dataframe tbody tr th:only-of-type {\n",
       "        vertical-align: middle;\n",
       "    }\n",
       "\n",
       "    .dataframe tbody tr th {\n",
       "        vertical-align: top;\n",
       "    }\n",
       "\n",
       "    .dataframe thead th {\n",
       "        text-align: right;\n",
       "    }\n",
       "</style>\n",
       "<table border=\"1\" class=\"dataframe\">\n",
       "  <thead>\n",
       "    <tr style=\"text-align: right;\">\n",
       "      <th></th>\n",
       "      <th>0.0</th>\n",
       "      <th>0.05</th>\n",
       "      <th>0.1</th>\n",
       "      <th>0.2</th>\n",
       "      <th>0.3</th>\n",
       "      <th>0.4</th>\n",
       "      <th>0.5</th>\n",
       "      <th>0.6</th>\n",
       "      <th>0.7</th>\n",
       "      <th>0.8</th>\n",
       "      <th>0.9</th>\n",
       "      <th>0.95</th>\n",
       "      <th>1.0</th>\n",
       "    </tr>\n",
       "  </thead>\n",
       "  <tbody>\n",
       "    <tr>\n",
       "      <th>MMSI</th>\n",
       "      <td>1.0</td>\n",
       "      <td>2.0</td>\n",
       "      <td>20.0</td>\n",
       "      <td>152.6</td>\n",
       "      <td>402.4</td>\n",
       "      <td>809.0</td>\n",
       "      <td>1486.0</td>\n",
       "      <td>2576.0</td>\n",
       "      <td>4396.8</td>\n",
       "      <td>8091.4</td>\n",
       "      <td>13762.6</td>\n",
       "      <td>23716.8</td>\n",
       "      <td>39959.0</td>\n",
       "    </tr>\n",
       "  </tbody>\n",
       "</table>\n",
       "</div>"
      ],
      "text/plain": [
       "      0.00  0.05  0.10   0.20   0.30   0.40    0.50    0.60    0.70    0.80  \\\n",
       "MMSI   1.0   2.0  20.0  152.6  402.4  809.0  1486.0  2576.0  4396.8  8091.4   \n",
       "\n",
       "         0.90     0.95     1.00  \n",
       "MMSI  13762.6  23716.8  39959.0  "
      ]
     },
     "execution_count": 8,
     "metadata": {},
     "output_type": "execute_result"
    }
   ],
   "source": [
    "# Percentile Distribution of Data Points per Trajectory\n",
    "print(\"Data Points per Trajectory\")\n",
    "pd.DataFrame(df_tripMain.MMSI.value_counts().quantile([0,0.05] + list(np.round(np.arange(0.1,1,0.1),2)) + [0.95,1.00])).T"
   ]
  },
  {
   "cell_type": "markdown",
   "metadata": {},
   "source": [
    "**Skew in Data Points per Trajectory**\n",
    "\n",
    "1. Almost 5% trajectory or 350 Trajectory only have 2 data points\n",
    "2. 70% Trajectory have less than 5000 data points(mean)."
   ]
  },
  {
   "cell_type": "code",
   "execution_count": 9,
   "metadata": {},
   "outputs": [
    {
     "data": {
      "image/png": "[encoded data removed]",
      "text/plain": [
       "<matplotlib.figure.Figure at 0x2b3dc6541978>"
      ]
     },
     "metadata": {
      "needs_background": "light"
     },
     "output_type": "display_data"
    }
   ],
   "source": [
    "# Log distribution of Data Points per trajectory \n",
    "plt.hist(np.log(df_tripMain.MMSI.value_counts()), bins =30)\n",
    "plt.xlabel(\"Log(Data Points) per Trajectory\")\n",
    "plt.ylabel(\"Frequency\")\n",
    "plt.show()"
   ]
  },
  {
   "cell_type": "markdown",
   "metadata": {},
   "source": [
    "### Part 1.1 : Time Interval (Sec)"
   ]
  },
  {
   "cell_type": "markdown",
   "metadata": {},
   "source": [
    "Here we check the distribution of time interval between 2 consecutive data points corresponding to same trajectory in our dataset."
   ]
  },
  {
   "cell_type": "code",
   "execution_count": 7,
   "metadata": {},
   "outputs": [
    {
     "name": "stdout",
     "output_type": "stream",
     "text": [
      "Time in Seconds\n"
     ]
    },
    {
     "data": {
      "text/html": [
       "<div>\n",
       "<style scoped>\n",
       "    .dataframe tbody tr th:only-of-type {\n",
       "        vertical-align: middle;\n",
       "    }\n",
       "\n",
       "    .dataframe tbody tr th {\n",
       "        vertical-align: top;\n",
       "    }\n",
       "\n",
       "    .dataframe thead th {\n",
       "        text-align: right;\n",
       "    }\n",
       "</style>\n",
       "<table border=\"1\" class=\"dataframe\">\n",
       "  <thead>\n",
       "    <tr style=\"text-align: right;\">\n",
       "      <th></th>\n",
       "      <th>0.0</th>\n",
       "      <th>0.05</th>\n",
       "      <th>0.1</th>\n",
       "      <th>0.2</th>\n",
       "      <th>0.3</th>\n",
       "      <th>0.4</th>\n",
       "      <th>0.5</th>\n",
       "      <th>0.6</th>\n",
       "      <th>0.7</th>\n",
       "      <th>0.8</th>\n",
       "      <th>0.9</th>\n",
       "      <th>0.95</th>\n",
       "      <th>1.0</th>\n",
       "    </tr>\n",
       "  </thead>\n",
       "  <tbody>\n",
       "    <tr>\n",
       "      <th>TimeDiff</th>\n",
       "      <td>0.0</td>\n",
       "      <td>61.0</td>\n",
       "      <td>63.0</td>\n",
       "      <td>69.0</td>\n",
       "      <td>70.0</td>\n",
       "      <td>70.0</td>\n",
       "      <td>71.0</td>\n",
       "      <td>89.0</td>\n",
       "      <td>178.0</td>\n",
       "      <td>180.0</td>\n",
       "      <td>181.0</td>\n",
       "      <td>300.0</td>\n",
       "      <td>2584168.0</td>\n",
       "    </tr>\n",
       "  </tbody>\n",
       "</table>\n",
       "</div>"
      ],
      "text/plain": [
       "          0.00  0.05  0.10  0.20  0.30  0.40  0.50  0.60   0.70   0.80   0.90  \\\n",
       "TimeDiff   0.0  61.0  63.0  69.0  70.0  70.0  71.0  89.0  178.0  180.0  181.0   \n",
       "\n",
       "           0.95       1.00  \n",
       "TimeDiff  300.0  2584168.0  "
      ]
     },
     "execution_count": 7,
     "metadata": {},
     "output_type": "execute_result"
    }
   ],
   "source": [
    "# Percentile Distribution of Time Interval\n",
    "print(\"Time in Seconds\")\n",
    "pd.DataFrame(df_tripMain.TimeDiff.quantile([0,0.05] + list(np.round(np.arange(0.1,1,0.1),2)) + [0.95,1.00])).T"
   ]
  },
  {
   "cell_type": "markdown",
   "metadata": {},
   "source": [
    "**95 % Data points have time difference less than 300 Seconds or 5 minutes**\n",
    "\n",
    "The range of time difference is concentrated between 1 to 5 minutes"
   ]
  },
  {
   "cell_type": "code",
   "execution_count": 12,
   "metadata": {},
   "outputs": [
    {
     "data": {
      "image/png": "[encoded data removed]",
      "text/plain": [
       "<matplotlib.figure.Figure at 0x2b3d4fd5f240>"
      ]
     },
     "metadata": {
      "needs_background": "light"
     },
     "output_type": "display_data"
    }
   ],
   "source": [
    "# Histogram Distribution of Log(TimeInterval)\n",
    "plt.hist(np.log(df_tripMain.TimeDiff+ 1), bins =30)\n",
    "plt.xlabel(\"Log(time interval)\")\n",
    "plt.ylabel(\"Frequency\")\n",
    "plt.show()"
   ]
  },
  {
   "cell_type": "markdown",
   "metadata": {},
   "source": [
    "### Part 1.2: Distance (Kms)"
   ]
  },
  {
   "cell_type": "markdown",
   "metadata": {},
   "source": [
    "Here we check the distribution of Distance(kms) between 2 consecutive data points corresponding to the same trajectory in our dataset."
   ]
  },
  {
   "cell_type": "code",
   "execution_count": 13,
   "metadata": {},
   "outputs": [
    {
     "name": "stdout",
     "output_type": "stream",
     "text": [
      "Distance in Kms\n"
     ]
    },
    {
     "data": {
      "text/html": [
       "<div>\n",
       "<style scoped>\n",
       "    .dataframe tbody tr th:only-of-type {\n",
       "        vertical-align: middle;\n",
       "    }\n",
       "\n",
       "    .dataframe tbody tr th {\n",
       "        vertical-align: top;\n",
       "    }\n",
       "\n",
       "    .dataframe thead th {\n",
       "        text-align: right;\n",
       "    }\n",
       "</style>\n",
       "<table border=\"1\" class=\"dataframe\">\n",
       "  <thead>\n",
       "    <tr style=\"text-align: right;\">\n",
       "      <th></th>\n",
       "      <th>0.0</th>\n",
       "      <th>0.05</th>\n",
       "      <th>0.1</th>\n",
       "      <th>0.2</th>\n",
       "      <th>0.3</th>\n",
       "      <th>0.4</th>\n",
       "      <th>0.5</th>\n",
       "      <th>0.6</th>\n",
       "      <th>0.7</th>\n",
       "      <th>0.8</th>\n",
       "      <th>0.9</th>\n",
       "      <th>0.95</th>\n",
       "      <th>1.0</th>\n",
       "    </tr>\n",
       "  </thead>\n",
       "  <tbody>\n",
       "    <tr>\n",
       "      <th>Dist</th>\n",
       "      <td>0.0</td>\n",
       "      <td>0.0</td>\n",
       "      <td>0.0</td>\n",
       "      <td>0.00111</td>\n",
       "      <td>0.001409</td>\n",
       "      <td>0.002222</td>\n",
       "      <td>0.003441</td>\n",
       "      <td>0.007606</td>\n",
       "      <td>0.13187</td>\n",
       "      <td>0.265849</td>\n",
       "      <td>0.402153</td>\n",
       "      <td>0.514425</td>\n",
       "      <td>2256.010355</td>\n",
       "    </tr>\n",
       "  </tbody>\n",
       "</table>\n",
       "</div>"
      ],
      "text/plain": [
       "      0.00  0.05  0.10     0.20      0.30      0.40      0.50      0.60  \\\n",
       "Dist   0.0   0.0   0.0  0.00111  0.001409  0.002222  0.003441  0.007606   \n",
       "\n",
       "         0.70      0.80      0.90      0.95         1.00  \n",
       "Dist  0.13187  0.265849  0.402153  0.514425  2256.010355  "
      ]
     },
     "execution_count": 13,
     "metadata": {},
     "output_type": "execute_result"
    }
   ],
   "source": [
    "# Percentile Distribution of Distance\n",
    "print(\"Distance in Kms\")\n",
    "pd.DataFrame(df_tripMain.Dist.quantile([0,0.05] + list(np.round(np.arange(0.1,1,0.1),2)) + [0.95,1.00])).T"
   ]
  },
  {
   "cell_type": "markdown",
   "metadata": {},
   "source": [
    "**Almost 60% data have difference of less than 7m in distance** "
   ]
  },
  {
   "cell_type": "code",
   "execution_count": 16,
   "metadata": {},
   "outputs": [
    {
     "data": {
      "image/png": "[encoded data removed]",
      "text/plain": [
       "<matplotlib.figure.Figure at 0x2b3d4fd5f5f8>"
      ]
     },
     "metadata": {
      "needs_background": "light"
     },
     "output_type": "display_data"
    }
   ],
   "source": [
    "# Histogram Distribution of Log(Distance)\n",
    "plt.hist(np.log(df_tripMain.Dist+ 0.00001), bins =30)\n",
    "plt.xlabel(\"Log(Distance)\")\n",
    "plt.ylabel(\"Frequency\")\n",
    "plt.show()"
   ]
  },
  {
   "cell_type": "markdown",
   "metadata": {},
   "source": [
    "**We see a bimodal distribution in distance**\n",
    "\n",
    "1. The first centre is around -6.5 on log scale or 1.5 metres, and the other is centered around -1.5(log scale) or 223metres.\n",
    "2. The first modal corresponds to slow moving or parked ships, and the other corresponds to fast moving ships."
   ]
  },
  {
   "cell_type": "markdown",
   "metadata": {},
   "source": [
    "### Part 1.3: Speed (Km/Hr)"
   ]
  },
  {
   "cell_type": "markdown",
   "metadata": {},
   "source": [
    "Here we check the distribution of Speed(km/hr) between 2 consecutive data points corresponding to the same trajectory in our dataset."
   ]
  },
  {
   "cell_type": "code",
   "execution_count": 27,
   "metadata": {},
   "outputs": [
    {
     "name": "stdout",
     "output_type": "stream",
     "text": [
      "Speed in Km/Hr\n"
     ]
    },
    {
     "data": {
      "text/html": [
       "<div>\n",
       "<style scoped>\n",
       "    .dataframe tbody tr th:only-of-type {\n",
       "        vertical-align: middle;\n",
       "    }\n",
       "\n",
       "    .dataframe tbody tr th {\n",
       "        vertical-align: top;\n",
       "    }\n",
       "\n",
       "    .dataframe thead th {\n",
       "        text-align: right;\n",
       "    }\n",
       "</style>\n",
       "<table border=\"1\" class=\"dataframe\">\n",
       "  <thead>\n",
       "    <tr style=\"text-align: right;\">\n",
       "      <th></th>\n",
       "      <th>0.0</th>\n",
       "      <th>0.05</th>\n",
       "      <th>0.1</th>\n",
       "      <th>0.2</th>\n",
       "      <th>0.3</th>\n",
       "      <th>0.4</th>\n",
       "      <th>0.5</th>\n",
       "      <th>0.6</th>\n",
       "      <th>0.7</th>\n",
       "      <th>0.8</th>\n",
       "      <th>0.9</th>\n",
       "      <th>0.95</th>\n",
       "      <th>1.0</th>\n",
       "    </tr>\n",
       "  </thead>\n",
       "  <tbody>\n",
       "    <tr>\n",
       "      <th>Speed</th>\n",
       "      <td>0.0</td>\n",
       "      <td>0.0</td>\n",
       "      <td>0.0</td>\n",
       "      <td>0.027437</td>\n",
       "      <td>0.047502</td>\n",
       "      <td>0.072425</td>\n",
       "      <td>0.122507</td>\n",
       "      <td>0.284545</td>\n",
       "      <td>5.896541</td>\n",
       "      <td>12.624717</td>\n",
       "      <td>19.098747</td>\n",
       "      <td>25.297787</td>\n",
       "      <td>1.366936e+06</td>\n",
       "    </tr>\n",
       "  </tbody>\n",
       "</table>\n",
       "</div>"
      ],
      "text/plain": [
       "       0.00  0.05  0.10      0.20      0.30      0.40      0.50      0.60  \\\n",
       "Speed   0.0   0.0   0.0  0.027437  0.047502  0.072425  0.122507  0.284545   \n",
       "\n",
       "           0.70       0.80       0.90       0.95          1.00  \n",
       "Speed  5.896541  12.624717  19.098747  25.297787  1.366936e+06  "
      ]
     },
     "execution_count": 27,
     "metadata": {},
     "output_type": "execute_result"
    }
   ],
   "source": [
    "# Percentile Distribution of Distance\n",
    "print(\"Speed in Km/Hr\")\n",
    "pd.DataFrame(df_tripMain.Speed.quantile([0,0.05] + list(np.round(np.arange(0.1,1,0.1),2)) + [0.95,1.00])).T"
   ]
  },
  {
   "cell_type": "markdown",
   "metadata": {},
   "source": [
    "**60% Data points have speed lower than 0.3km/hrs**"
   ]
  },
  {
   "cell_type": "code",
   "execution_count": 28,
   "metadata": {},
   "outputs": [
    {
     "data": {
      "image/png": "[encoded data removed]",
      "text/plain": [
       "<matplotlib.figure.Figure at 0x2b3d4fd5fba8>"
      ]
     },
     "metadata": {
      "needs_background": "light"
     },
     "output_type": "display_data"
    }
   ],
   "source": [
    "# Histogram Distribution of Log(Distance)\n",
    "plt.hist(np.log(df_tripMain.Speed+0.00001), bins =30)\n",
    "plt.xlabel(\"Log(Speed)\")\n",
    "plt.ylabel(\"Frequency\")\n",
    "plt.show()"
   ]
  },
  {
   "cell_type": "markdown",
   "metadata": {},
   "source": [
    "**Similar to distance speed also have a bimodal distribution**"
   ]
  },
  {
   "cell_type": "markdown",
   "metadata": {},
   "source": [
    "### Part 1.4(Important) : % Data Covered by Trip Length for Different Speed Thresholds "
   ]
  },
  {
   "cell_type": "markdown",
   "metadata": {},
   "source": [
    "To split trajectory into trips, in the proposed method we are going to use the drop of speed below a given threshold as a flag for stationarity.\n",
    "\n",
    "Conducting segmentation like this splits the trajectory into a number of segments of varying length and a lot of free points with length 1.\n",
    "\n",
    "These free points cannot be used further and thus results into loss of original data.\n",
    "\n",
    "We use different speed to check what % of data get lost in the form of these free data points.\n",
    "\n",
    "In the following graph we find % Data Covered in Trips with length > Given Trip Length(x-axis)."
   ]
  },
  {
   "cell_type": "code",
   "execution_count": 32,
   "metadata": {},
   "outputs": [
    {
     "name": "stdout",
     "output_type": "stream",
     "text": [
      "             0         1         2         3         4\n",
      "th        0.03      0.05      0.07       0.1       0.3\n",
      "data  0.842574  0.766368  0.693826  0.611203  0.418578\n"
     ]
    },
    {
     "data": {
      "image/png": "[encoded data removed]",
      "text/plain": [
       "<matplotlib.figure.Figure at 0x2b3d9f17a828>"
      ]
     },
     "metadata": {
      "needs_background": "light"
     },
     "output_type": "display_data"
    }
   ],
   "source": [
    "df_th = pd.DataFrame(columns=['th','data'])\n",
    "a = 0\n",
    "for th in [0.03,0.05,0.07,0.10,0.30]:\n",
    "    # stationarity\n",
    "    df_tripMain['Stationary'] = df_tripMain['Speed']<th\n",
    "    # stationarity id\n",
    "    df_tripMain['trip_id'] = df_tripMain['Stationary'].cumsum()\n",
    "    df_tripCount = pd.DataFrame(df_tripMain['trip_id'].value_counts())\n",
    "    df_tripCount = pd.DataFrame(df_tripCount.groupby(['trip_id'])['trip_id'].sum())\n",
    "    df_tripCount['Data'] = df_tripCount['trip_id'].cumsum()\n",
    "    df_tripCount['Data'] = df_tripCount['Data']/df_tripCount['trip_id'].sum()\n",
    "    df_th.loc[a,'th']= th\n",
    "    df_th.loc[a,'data'] = 1- df_tripCount.iloc[0,1]\n",
    "    a = a + 1\n",
    "    plt.plot(np.log(df_tripCount.index), 1- df_tripCount['Data'], label = str(th)+'Km/hr')\n",
    "\n",
    "plt.legend()\n",
    "plt.title('% Data Covered in Trips with length > Given Trip Length')\n",
    "plt.xlabel('Log(Trip Length)')\n",
    "plt.ylabel('% Data Covered')\n",
    "print(df_th.T)"
   ]
  },
  {
   "cell_type": "code",
   "execution_count": 33,
   "metadata": {},
   "outputs": [],
   "source": [
    "# reverting back the stationarity and trip_id to its original state\n",
    "df_tripMain['Stationary'] = df_tripMain['Speed']<0.03\n",
    "df_tripMain['trip_id'] = df_tripMain['Stationary'].cumsum()"
   ]
  },
  {
   "cell_type": "markdown",
   "metadata": {},
   "source": [
    "## Part 2: Analysis of Trip Data"
   ]
  },
  {
   "cell_type": "markdown",
   "metadata": {},
   "source": [
    "Based on the information obtained in Part 1.4, we split the trajectories into trips wherever the speed is lower than 0.03km/hr.\n",
    "The segmentation was done in a separate program and the resultant trips were saved.\n",
    "\n",
    "In this Part of the notebook, we will analyze the statistics of trips on Trip Sequence Length, Total Trip Distance, Total Trip Time Interval, Trip Average Speed, and Trip Overall Displacement."
   ]
  },
  {
   "cell_type": "code",
   "execution_count": 45,
   "metadata": {},
   "outputs": [
    {
     "data": {
      "text/html": [
       "<div>\n",
       "<style scoped>\n",
       "    .dataframe tbody tr th:only-of-type {\n",
       "        vertical-align: middle;\n",
       "    }\n",
       "\n",
       "    .dataframe tbody tr th {\n",
       "        vertical-align: top;\n",
       "    }\n",
       "\n",
       "    .dataframe thead th {\n",
       "        text-align: right;\n",
       "    }\n",
       "</style>\n",
       "<table border=\"1\" class=\"dataframe\">\n",
       "  <thead>\n",
       "    <tr style=\"text-align: right;\">\n",
       "      <th></th>\n",
       "      <th>Unnamed: 0</th>\n",
       "      <th>trip_id</th>\n",
       "      <th>MMSI</th>\n",
       "      <th>Dist</th>\n",
       "      <th>TimeDiff</th>\n",
       "      <th>Count</th>\n",
       "      <th>Speed</th>\n",
       "      <th>displacement</th>\n",
       "    </tr>\n",
       "  </thead>\n",
       "  <tbody>\n",
       "    <tr>\n",
       "      <th>0</th>\n",
       "      <td>0</td>\n",
       "      <td>1</td>\n",
       "      <td>1</td>\n",
       "      <td>3.196927</td>\n",
       "      <td>2781.0</td>\n",
       "      <td>7</td>\n",
       "      <td>4.138417</td>\n",
       "      <td>1.700434</td>\n",
       "    </tr>\n",
       "    <tr>\n",
       "      <th>1</th>\n",
       "      <td>1</td>\n",
       "      <td>3</td>\n",
       "      <td>3</td>\n",
       "      <td>0.009627</td>\n",
       "      <td>542.0</td>\n",
       "      <td>3</td>\n",
       "      <td>0.063946</td>\n",
       "      <td>0.000879</td>\n",
       "    </tr>\n",
       "    <tr>\n",
       "      <th>2</th>\n",
       "      <td>2</td>\n",
       "      <td>4</td>\n",
       "      <td>4</td>\n",
       "      <td>0.004158</td>\n",
       "      <td>359.0</td>\n",
       "      <td>2</td>\n",
       "      <td>0.041700</td>\n",
       "      <td>0.002220</td>\n",
       "    </tr>\n",
       "    <tr>\n",
       "      <th>3</th>\n",
       "      <td>3</td>\n",
       "      <td>6</td>\n",
       "      <td>13236</td>\n",
       "      <td>3010.351188</td>\n",
       "      <td>2542.0</td>\n",
       "      <td>13</td>\n",
       "      <td>4263.282564</td>\n",
       "      <td>138.864510</td>\n",
       "    </tr>\n",
       "    <tr>\n",
       "      <th>4</th>\n",
       "      <td>4</td>\n",
       "      <td>7</td>\n",
       "      <td>100319</td>\n",
       "      <td>0.003420</td>\n",
       "      <td>69.0</td>\n",
       "      <td>1</td>\n",
       "      <td>0.178412</td>\n",
       "      <td>0.003420</td>\n",
       "    </tr>\n",
       "  </tbody>\n",
       "</table>\n",
       "</div>"
      ],
      "text/plain": [
       "   Unnamed: 0  trip_id    MMSI         Dist  TimeDiff  Count        Speed  \\\n",
       "0           0        1       1     3.196927    2781.0      7     4.138417   \n",
       "1           1        3       3     0.009627     542.0      3     0.063946   \n",
       "2           2        4       4     0.004158     359.0      2     0.041700   \n",
       "3           3        6   13236  3010.351188    2542.0     13  4263.282564   \n",
       "4           4        7  100319     0.003420      69.0      1     0.178412   \n",
       "\n",
       "   displacement  \n",
       "0      1.700434  \n",
       "1      0.000879  \n",
       "2      0.002220  \n",
       "3    138.864510  \n",
       "4      0.003420  "
      ]
     },
     "execution_count": 45,
     "metadata": {},
     "output_type": "execute_result"
    }
   ],
   "source": [
    "# Import trip data\n",
    "df_trip = pd.read_csv('/scratch/skp454/Trajectory/data/20190621_AISTripStatsData.csv')\n",
    "df_trip['Speed'].fillna(0, inplace= True)\n",
    "df_trip.head()"
   ]
  },
  {
   "cell_type": "markdown",
   "metadata": {},
   "source": [
    "### Part 2.0: Trip Sequence length"
   ]
  },
  {
   "cell_type": "markdown",
   "metadata": {},
   "source": [
    "The number of data points in each trip determines its sequence length."
   ]
  },
  {
   "cell_type": "code",
   "execution_count": 46,
   "metadata": {},
   "outputs": [
    {
     "name": "stdout",
     "output_type": "stream",
     "text": [
      "Total Number of Trips: 2562397\n"
     ]
    }
   ],
   "source": [
    "# Number of trajectories and data points\n",
    "print('Total Number of Trips:', len(df_trip.trip_id.unique()))"
   ]
  },
  {
   "cell_type": "code",
   "execution_count": 47,
   "metadata": {},
   "outputs": [
    {
     "name": "stdout",
     "output_type": "stream",
     "text": [
      "Data Points per Trip\n"
     ]
    },
    {
     "data": {
      "text/html": [
       "<div>\n",
       "<style scoped>\n",
       "    .dataframe tbody tr th:only-of-type {\n",
       "        vertical-align: middle;\n",
       "    }\n",
       "\n",
       "    .dataframe tbody tr th {\n",
       "        vertical-align: top;\n",
       "    }\n",
       "\n",
       "    .dataframe thead th {\n",
       "        text-align: right;\n",
       "    }\n",
       "</style>\n",
       "<table border=\"1\" class=\"dataframe\">\n",
       "  <thead>\n",
       "    <tr style=\"text-align: right;\">\n",
       "      <th></th>\n",
       "      <th>0.0</th>\n",
       "      <th>0.05</th>\n",
       "      <th>0.1</th>\n",
       "      <th>0.2</th>\n",
       "      <th>0.3</th>\n",
       "      <th>0.4</th>\n",
       "      <th>0.5</th>\n",
       "      <th>0.6</th>\n",
       "      <th>0.7</th>\n",
       "      <th>0.8</th>\n",
       "      <th>0.9</th>\n",
       "      <th>0.95</th>\n",
       "      <th>1.0</th>\n",
       "    </tr>\n",
       "  </thead>\n",
       "  <tbody>\n",
       "    <tr>\n",
       "      <th>Count</th>\n",
       "      <td>1.0</td>\n",
       "      <td>1.0</td>\n",
       "      <td>1.0</td>\n",
       "      <td>1.0</td>\n",
       "      <td>1.0</td>\n",
       "      <td>2.0</td>\n",
       "      <td>2.0</td>\n",
       "      <td>3.0</td>\n",
       "      <td>5.0</td>\n",
       "      <td>8.0</td>\n",
       "      <td>16.0</td>\n",
       "      <td>32.0</td>\n",
       "      <td>18556.0</td>\n",
       "    </tr>\n",
       "  </tbody>\n",
       "</table>\n",
       "</div>"
      ],
      "text/plain": [
       "       0.00  0.05  0.10  0.20  0.30  0.40  0.50  0.60  0.70  0.80  0.90  0.95  \\\n",
       "Count   1.0   1.0   1.0   1.0   1.0   2.0   2.0   3.0   5.0   8.0  16.0  32.0   \n",
       "\n",
       "          1.00  \n",
       "Count  18556.0  "
      ]
     },
     "execution_count": 47,
     "metadata": {},
     "output_type": "execute_result"
    }
   ],
   "source": [
    "# Percentile Distribution of length of sequence per trip\n",
    "print(\"Data Points per Trip\")\n",
    "pd.DataFrame(df_trip.Count.quantile([0,0.05] + list(np.round(np.arange(0.1,1,0.1),2)) + [0.95,1.00])).T"
   ]
  },
  {
   "cell_type": "markdown",
   "metadata": {},
   "source": [
    "**Presence of large number of Erroneous Trips**\n",
    "1. About 30% of trip have only 1 data point in them.\n",
    "2. When a boat is stationary, the data points corresponding to it becomes a trip of length 1.\n",
    "3. These trips are errors and hence we remove them.\n",
    "4. Doing this leads to loss of 16% data points which we have already estimated in part 1.4."
   ]
  },
  {
   "cell_type": "code",
   "execution_count": 48,
   "metadata": {},
   "outputs": [],
   "source": [
    "# update the trips (>1)\n",
    "df_trip = df_trip[df_trip['Count']>1]"
   ]
  },
  {
   "cell_type": "code",
   "execution_count": 49,
   "metadata": {},
   "outputs": [
    {
     "name": "stdout",
     "output_type": "stream",
     "text": [
      "Total Number of Trips: 1718007\n"
     ]
    }
   ],
   "source": [
    "# Number of trajectories and data points\n",
    "print('Total Number of Trips:', len(df_trip.trip_id.unique()))"
   ]
  },
  {
   "cell_type": "markdown",
   "metadata": {},
   "source": [
    "**Finally we have  1.7 Million Trips**"
   ]
  },
  {
   "cell_type": "code",
   "execution_count": 50,
   "metadata": {},
   "outputs": [
    {
     "name": "stdout",
     "output_type": "stream",
     "text": [
      "Data Points per Trip(>1)\n"
     ]
    },
    {
     "data": {
      "text/html": [
       "<div>\n",
       "<style scoped>\n",
       "    .dataframe tbody tr th:only-of-type {\n",
       "        vertical-align: middle;\n",
       "    }\n",
       "\n",
       "    .dataframe tbody tr th {\n",
       "        vertical-align: top;\n",
       "    }\n",
       "\n",
       "    .dataframe thead th {\n",
       "        text-align: right;\n",
       "    }\n",
       "</style>\n",
       "<table border=\"1\" class=\"dataframe\">\n",
       "  <thead>\n",
       "    <tr style=\"text-align: right;\">\n",
       "      <th></th>\n",
       "      <th>0.0</th>\n",
       "      <th>0.05</th>\n",
       "      <th>0.1</th>\n",
       "      <th>0.2</th>\n",
       "      <th>0.3</th>\n",
       "      <th>0.4</th>\n",
       "      <th>0.5</th>\n",
       "      <th>0.6</th>\n",
       "      <th>0.7</th>\n",
       "      <th>0.8</th>\n",
       "      <th>0.9</th>\n",
       "      <th>0.95</th>\n",
       "      <th>1.0</th>\n",
       "    </tr>\n",
       "  </thead>\n",
       "  <tbody>\n",
       "    <tr>\n",
       "      <th>Count</th>\n",
       "      <td>2.0</td>\n",
       "      <td>2.0</td>\n",
       "      <td>2.0</td>\n",
       "      <td>2.0</td>\n",
       "      <td>3.0</td>\n",
       "      <td>3.0</td>\n",
       "      <td>4.0</td>\n",
       "      <td>5.0</td>\n",
       "      <td>7.0</td>\n",
       "      <td>12.0</td>\n",
       "      <td>24.0</td>\n",
       "      <td>48.0</td>\n",
       "      <td>18556.0</td>\n",
       "    </tr>\n",
       "  </tbody>\n",
       "</table>\n",
       "</div>"
      ],
      "text/plain": [
       "       0.00  0.05  0.10  0.20  0.30  0.40  0.50  0.60  0.70  0.80  0.90  0.95  \\\n",
       "Count   2.0   2.0   2.0   2.0   3.0   3.0   4.0   5.0   7.0  12.0  24.0  48.0   \n",
       "\n",
       "          1.00  \n",
       "Count  18556.0  "
      ]
     },
     "execution_count": 50,
     "metadata": {},
     "output_type": "execute_result"
    }
   ],
   "source": [
    "# Percentile Distribution of length of sequence per trip (>1)\n",
    "print(\"Data Points per Trip(>1)\")\n",
    "pd.DataFrame(df_trip.Count.quantile([0,0.05] + list(np.round(np.arange(0.1,1,0.1),2)) + [0.95,1.00])).T"
   ]
  },
  {
   "cell_type": "markdown",
   "metadata": {},
   "source": [
    "**A large fraction of trips(80% trips) still have length less than 10 data points**"
   ]
  },
  {
   "cell_type": "code",
   "execution_count": 51,
   "metadata": {},
   "outputs": [
    {
     "data": {
      "image/png": "[encoded data removed]",
      "text/plain": [
       "<matplotlib.figure.Figure at 0x2b3d9f6402b0>"
      ]
     },
     "metadata": {
      "needs_background": "light"
     },
     "output_type": "display_data"
    }
   ],
   "source": [
    "# Log distribution of Data Points per trajectory \n",
    "plt.hist(np.log(df_trip.Count), bins =30)\n",
    "plt.xlabel(\"log(Data points) per Trip\")\n",
    "plt.ylabel(\"Frequency\")\n",
    "plt.show()"
   ]
  },
  {
   "cell_type": "markdown",
   "metadata": {},
   "source": [
    "### Part 2.1: Trip and Trajectories"
   ]
  },
  {
   "cell_type": "markdown",
   "metadata": {},
   "source": [
    "Originally we had 7209 Vessels/Trajectories.\n",
    "1. In this section we will see total number of vessels left after removing trips of length less than 1 data point.\n",
    "2. Number of trips per trajectory."
   ]
  },
  {
   "cell_type": "code",
   "execution_count": 53,
   "metadata": {},
   "outputs": [
    {
     "name": "stdout",
     "output_type": "stream",
     "text": [
      "Total Number of Trajectories: 6743\n",
      "Total Number of Data Points: 26.736465 Millions\n"
     ]
    }
   ],
   "source": [
    "# Number of trajectories and data points\n",
    "print('Total Number of Trajectories:', len(df_trip.MMSI.unique()))\n",
    "print('Total Number of Data Points:', sum(df_trip.Count)/1000000, \"Millions\")"
   ]
  },
  {
   "cell_type": "markdown",
   "metadata": {},
   "source": [
    "**We have lost approximately 500 vessels and about 10 Million original data points**"
   ]
  },
  {
   "cell_type": "code",
   "execution_count": 54,
   "metadata": {},
   "outputs": [
    {
     "name": "stdout",
     "output_type": "stream",
     "text": [
      "Trips per Trajectory\n"
     ]
    },
    {
     "data": {
      "text/html": [
       "<div>\n",
       "<style scoped>\n",
       "    .dataframe tbody tr th:only-of-type {\n",
       "        vertical-align: middle;\n",
       "    }\n",
       "\n",
       "    .dataframe tbody tr th {\n",
       "        vertical-align: top;\n",
       "    }\n",
       "\n",
       "    .dataframe thead th {\n",
       "        text-align: right;\n",
       "    }\n",
       "</style>\n",
       "<table border=\"1\" class=\"dataframe\">\n",
       "  <thead>\n",
       "    <tr style=\"text-align: right;\">\n",
       "      <th></th>\n",
       "      <th>0.0</th>\n",
       "      <th>0.05</th>\n",
       "      <th>0.1</th>\n",
       "      <th>0.2</th>\n",
       "      <th>0.3</th>\n",
       "      <th>0.4</th>\n",
       "      <th>0.5</th>\n",
       "      <th>0.6</th>\n",
       "      <th>0.7</th>\n",
       "      <th>0.8</th>\n",
       "      <th>0.9</th>\n",
       "      <th>0.95</th>\n",
       "      <th>1.0</th>\n",
       "    </tr>\n",
       "  </thead>\n",
       "  <tbody>\n",
       "    <tr>\n",
       "      <th>MMSI</th>\n",
       "      <td>1.0</td>\n",
       "      <td>1.0</td>\n",
       "      <td>1.0</td>\n",
       "      <td>3.0</td>\n",
       "      <td>7.0</td>\n",
       "      <td>14.0</td>\n",
       "      <td>27.0</td>\n",
       "      <td>58.0</td>\n",
       "      <td>123.0</td>\n",
       "      <td>325.0</td>\n",
       "      <td>876.0</td>\n",
       "      <td>1397.8</td>\n",
       "      <td>4992.0</td>\n",
       "    </tr>\n",
       "  </tbody>\n",
       "</table>\n",
       "</div>"
      ],
      "text/plain": [
       "      0.00  0.05  0.10  0.20  0.30  0.40  0.50  0.60   0.70   0.80   0.90  \\\n",
       "MMSI   1.0   1.0   1.0   3.0   7.0  14.0  27.0  58.0  123.0  325.0  876.0   \n",
       "\n",
       "        0.95    1.00  \n",
       "MMSI  1397.8  4992.0  "
      ]
     },
     "execution_count": 54,
     "metadata": {},
     "output_type": "execute_result"
    }
   ],
   "source": [
    "# Percentile Distribution of Trips per Trajectory\n",
    "print(\"Trips per Trajectory\")\n",
    "pd.DataFrame(df_trip.MMSI.value_counts().quantile([0,0.05] + list(np.round(np.arange(0.1,1,0.1),2)) + [0.95,1.00])).T"
   ]
  },
  {
   "cell_type": "markdown",
   "metadata": {},
   "source": [
    "**The median number of trip we have got per vessel is about 27**"
   ]
  },
  {
   "cell_type": "code",
   "execution_count": 55,
   "metadata": {},
   "outputs": [
    {
     "data": {
      "image/png": "[encoded data removed]",
      "text/plain": [
       "<matplotlib.figure.Figure at 0x2b3da2f0a3c8>"
      ]
     },
     "metadata": {
      "needs_background": "light"
     },
     "output_type": "display_data"
    }
   ],
   "source": [
    "# Log distribution of Data Points per trajectory \n",
    "plt.hist(np.log(df_trip.MMSI.value_counts()), bins =30)\n",
    "plt.xlabel(\"Trips per Trajectory\")\n",
    "plt.ylabel(\"Frequency\")\n",
    "plt.show()"
   ]
  },
  {
   "cell_type": "markdown",
   "metadata": {},
   "source": [
    "### Part2.2: Trip Time Intervals(Sec)"
   ]
  },
  {
   "cell_type": "code",
   "execution_count": 56,
   "metadata": {},
   "outputs": [
    {
     "name": "stdout",
     "output_type": "stream",
     "text": [
      "Time in Seconds\n"
     ]
    },
    {
     "data": {
      "text/html": [
       "<div>\n",
       "<style scoped>\n",
       "    .dataframe tbody tr th:only-of-type {\n",
       "        vertical-align: middle;\n",
       "    }\n",
       "\n",
       "    .dataframe tbody tr th {\n",
       "        vertical-align: top;\n",
       "    }\n",
       "\n",
       "    .dataframe thead th {\n",
       "        text-align: right;\n",
       "    }\n",
       "</style>\n",
       "<table border=\"1\" class=\"dataframe\">\n",
       "  <thead>\n",
       "    <tr style=\"text-align: right;\">\n",
       "      <th></th>\n",
       "      <th>0.0</th>\n",
       "      <th>0.05</th>\n",
       "      <th>0.1</th>\n",
       "      <th>0.2</th>\n",
       "      <th>0.3</th>\n",
       "      <th>0.4</th>\n",
       "      <th>0.5</th>\n",
       "      <th>0.6</th>\n",
       "      <th>0.7</th>\n",
       "      <th>0.8</th>\n",
       "      <th>0.9</th>\n",
       "      <th>0.95</th>\n",
       "      <th>1.0</th>\n",
       "    </tr>\n",
       "  </thead>\n",
       "  <tbody>\n",
       "    <tr>\n",
       "      <th>TimeDiff</th>\n",
       "      <td>70.0</td>\n",
       "      <td>140.0</td>\n",
       "      <td>201.0</td>\n",
       "      <td>341.0</td>\n",
       "      <td>360.0</td>\n",
       "      <td>420.0</td>\n",
       "      <td>540.0</td>\n",
       "      <td>719.0</td>\n",
       "      <td>901.0</td>\n",
       "      <td>1298.0</td>\n",
       "      <td>2380.0</td>\n",
       "      <td>4430.0</td>\n",
       "      <td>2608498.0</td>\n",
       "    </tr>\n",
       "  </tbody>\n",
       "</table>\n",
       "</div>"
      ],
      "text/plain": [
       "          0.00   0.05   0.10   0.20   0.30   0.40   0.50   0.60   0.70  \\\n",
       "TimeDiff  70.0  140.0  201.0  341.0  360.0  420.0  540.0  719.0  901.0   \n",
       "\n",
       "            0.80    0.90    0.95       1.00  \n",
       "TimeDiff  1298.0  2380.0  4430.0  2608498.0  "
      ]
     },
     "execution_count": 56,
     "metadata": {},
     "output_type": "execute_result"
    }
   ],
   "source": [
    "# Percentile Distribution of Time Interval\n",
    "print(\"Time in Seconds\")\n",
    "pd.DataFrame(df_trip.TimeDiff.quantile([0,0.05] + list(np.round(np.arange(0.1,1,0.1),2)) + [0.95,1.00])).T"
   ]
  },
  {
   "cell_type": "markdown",
   "metadata": {},
   "source": [
    "**The median length of trip in time is around 540 Seconds**"
   ]
  },
  {
   "cell_type": "code",
   "execution_count": 57,
   "metadata": {},
   "outputs": [
    {
     "data": {
      "image/png": "[encoded data removed]",
      "text/plain": [
       "<matplotlib.figure.Figure at 0x2b3da2fa3f28>"
      ]
     },
     "metadata": {
      "needs_background": "light"
     },
     "output_type": "display_data"
    }
   ],
   "source": [
    "# Histogram Distribution of Log(TimeInterval)\n",
    "plt.hist(np.log(df_trip.TimeDiff+ 1), bins =30)\n",
    "plt.xlabel(\"Log(time interval)\")\n",
    "plt.ylabel(\"Frequency\")\n",
    "plt.show()"
   ]
  },
  {
   "cell_type": "markdown",
   "metadata": {},
   "source": [
    "### Part 2.3: Trip Distance (Kms)"
   ]
  },
  {
   "cell_type": "code",
   "execution_count": 58,
   "metadata": {},
   "outputs": [
    {
     "name": "stdout",
     "output_type": "stream",
     "text": [
      "Distance in Kms\n"
     ]
    },
    {
     "data": {
      "text/html": [
       "<div>\n",
       "<style scoped>\n",
       "    .dataframe tbody tr th:only-of-type {\n",
       "        vertical-align: middle;\n",
       "    }\n",
       "\n",
       "    .dataframe tbody tr th {\n",
       "        vertical-align: top;\n",
       "    }\n",
       "\n",
       "    .dataframe thead th {\n",
       "        text-align: right;\n",
       "    }\n",
       "</style>\n",
       "<table border=\"1\" class=\"dataframe\">\n",
       "  <thead>\n",
       "    <tr style=\"text-align: right;\">\n",
       "      <th></th>\n",
       "      <th>0.0</th>\n",
       "      <th>0.05</th>\n",
       "      <th>0.1</th>\n",
       "      <th>0.2</th>\n",
       "      <th>0.3</th>\n",
       "      <th>0.4</th>\n",
       "      <th>0.5</th>\n",
       "      <th>0.6</th>\n",
       "      <th>0.7</th>\n",
       "      <th>0.8</th>\n",
       "      <th>0.9</th>\n",
       "      <th>0.95</th>\n",
       "      <th>1.0</th>\n",
       "    </tr>\n",
       "  </thead>\n",
       "  <tbody>\n",
       "    <tr>\n",
       "      <th>Dist</th>\n",
       "      <td>0.001548</td>\n",
       "      <td>0.002599</td>\n",
       "      <td>0.003715</td>\n",
       "      <td>0.004949</td>\n",
       "      <td>0.006466</td>\n",
       "      <td>0.008321</td>\n",
       "      <td>0.011023</td>\n",
       "      <td>0.015177</td>\n",
       "      <td>0.02276</td>\n",
       "      <td>0.039913</td>\n",
       "      <td>0.131876</td>\n",
       "      <td>3.511821</td>\n",
       "      <td>4475.51147</td>\n",
       "    </tr>\n",
       "  </tbody>\n",
       "</table>\n",
       "</div>"
      ],
      "text/plain": [
       "          0.00      0.05      0.10      0.20      0.30      0.40      0.50  \\\n",
       "Dist  0.001548  0.002599  0.003715  0.004949  0.006466  0.008321  0.011023   \n",
       "\n",
       "          0.60     0.70      0.80      0.90      0.95        1.00  \n",
       "Dist  0.015177  0.02276  0.039913  0.131876  3.511821  4475.51147  "
      ]
     },
     "execution_count": 58,
     "metadata": {},
     "output_type": "execute_result"
    }
   ],
   "source": [
    "# Percentile Distribution of Distance\n",
    "print(\"Distance in Kms\")\n",
    "pd.DataFrame(df_trip.Dist.quantile([0,0.05] + list(np.round(np.arange(0.1,1,0.1),2)) + [0.95,1.00])).T"
   ]
  },
  {
   "cell_type": "markdown",
   "metadata": {},
   "source": [
    "**The Median Distance Traveled in a trip is around 0.011Km or 11m**\n",
    "\n",
    "**90% Trips have travelled distance less than 130metres**"
   ]
  },
  {
   "cell_type": "code",
   "execution_count": 59,
   "metadata": {},
   "outputs": [
    {
     "data": {
      "image/png": "[encoded data removed]",
      "text/plain": [
       "<matplotlib.figure.Figure at 0x2b3da2f02c18>"
      ]
     },
     "metadata": {
      "needs_background": "light"
     },
     "output_type": "display_data"
    }
   ],
   "source": [
    "# Histogram Distribution of Log(Distance)\n",
    "plt.hist(np.log(df_trip.Dist+ 0.00001), bins =30)\n",
    "plt.xlabel(\"Log(Distance)\")\n",
    "plt.ylabel(\"Frequency\")\n",
    "plt.show()"
   ]
  },
  {
   "cell_type": "markdown",
   "metadata": {},
   "source": [
    "### Part 2.4: Trip Average Speed (Km/Hr)"
   ]
  },
  {
   "cell_type": "code",
   "execution_count": 60,
   "metadata": {},
   "outputs": [
    {
     "name": "stdout",
     "output_type": "stream",
     "text": [
      "Speed in Km/Hr\n"
     ]
    },
    {
     "data": {
      "text/html": [
       "<div>\n",
       "<style scoped>\n",
       "    .dataframe tbody tr th:only-of-type {\n",
       "        vertical-align: middle;\n",
       "    }\n",
       "\n",
       "    .dataframe tbody tr th {\n",
       "        vertical-align: top;\n",
       "    }\n",
       "\n",
       "    .dataframe thead th {\n",
       "        text-align: right;\n",
       "    }\n",
       "</style>\n",
       "<table border=\"1\" class=\"dataframe\">\n",
       "  <thead>\n",
       "    <tr style=\"text-align: right;\">\n",
       "      <th></th>\n",
       "      <th>0.0</th>\n",
       "      <th>0.05</th>\n",
       "      <th>0.1</th>\n",
       "      <th>0.2</th>\n",
       "      <th>0.3</th>\n",
       "      <th>0.4</th>\n",
       "      <th>0.5</th>\n",
       "      <th>0.6</th>\n",
       "      <th>0.7</th>\n",
       "      <th>0.8</th>\n",
       "      <th>0.9</th>\n",
       "      <th>0.95</th>\n",
       "      <th>1.0</th>\n",
       "    </tr>\n",
       "  </thead>\n",
       "  <tbody>\n",
       "    <tr>\n",
       "      <th>Speed</th>\n",
       "      <td>0.030132</td>\n",
       "      <td>0.042254</td>\n",
       "      <td>0.045822</td>\n",
       "      <td>0.05222</td>\n",
       "      <td>0.058088</td>\n",
       "      <td>0.06496</td>\n",
       "      <td>0.073298</td>\n",
       "      <td>0.084321</td>\n",
       "      <td>0.099555</td>\n",
       "      <td>0.125166</td>\n",
       "      <td>0.225881</td>\n",
       "      <td>5.422249</td>\n",
       "      <td>51973.681593</td>\n",
       "    </tr>\n",
       "  </tbody>\n",
       "</table>\n",
       "</div>"
      ],
      "text/plain": [
       "           0.00      0.05      0.10     0.20      0.30     0.40      0.50  \\\n",
       "Speed  0.030132  0.042254  0.045822  0.05222  0.058088  0.06496  0.073298   \n",
       "\n",
       "           0.60      0.70      0.80      0.90      0.95          1.00  \n",
       "Speed  0.084321  0.099555  0.125166  0.225881  5.422249  51973.681593  "
      ]
     },
     "execution_count": 60,
     "metadata": {},
     "output_type": "execute_result"
    }
   ],
   "source": [
    "# Percentile Distribution of Distance\n",
    "print(\"Speed in Km/Hr\")\n",
    "pd.DataFrame(df_trip.Speed.quantile([0,0.05] + list(np.round(np.arange(0.1,1,0.1),2)) + [0.95,1.00])).T"
   ]
  },
  {
   "cell_type": "markdown",
   "metadata": {},
   "source": [
    "**Median speed of trips is around 70m/hr, and 90% trips have speed less than 220m/hr**"
   ]
  },
  {
   "cell_type": "code",
   "execution_count": 62,
   "metadata": {},
   "outputs": [
    {
     "data": {
      "image/png": "[encoded data removed]",
      "text/plain": [
       "<matplotlib.figure.Figure at 0x2b3da3207d68>"
      ]
     },
     "metadata": {
      "needs_background": "light"
     },
     "output_type": "display_data"
    }
   ],
   "source": [
    "# Histogram Distribution of Log(Speed)\n",
    "plt.hist(np.log(df_trip.Speed+0.00001), bins =30)\n",
    "plt.xlabel(\"Log(Speed)\")\n",
    "plt.ylabel(\"Frequency\")\n",
    "plt.show()"
   ]
  },
  {
   "cell_type": "markdown",
   "metadata": {},
   "source": [
    "### Part 2.5: Trip Displacement (Kms)"
   ]
  },
  {
   "cell_type": "code",
   "execution_count": 63,
   "metadata": {},
   "outputs": [
    {
     "name": "stdout",
     "output_type": "stream",
     "text": [
      "Displacement in Kms\n"
     ]
    },
    {
     "data": {
      "text/html": [
       "<div>\n",
       "<style scoped>\n",
       "    .dataframe tbody tr th:only-of-type {\n",
       "        vertical-align: middle;\n",
       "    }\n",
       "\n",
       "    .dataframe tbody tr th {\n",
       "        vertical-align: top;\n",
       "    }\n",
       "\n",
       "    .dataframe thead th {\n",
       "        text-align: right;\n",
       "    }\n",
       "</style>\n",
       "<table border=\"1\" class=\"dataframe\">\n",
       "  <thead>\n",
       "    <tr style=\"text-align: right;\">\n",
       "      <th></th>\n",
       "      <th>0.0</th>\n",
       "      <th>0.05</th>\n",
       "      <th>0.1</th>\n",
       "      <th>0.2</th>\n",
       "      <th>0.3</th>\n",
       "      <th>0.4</th>\n",
       "      <th>0.5</th>\n",
       "      <th>0.6</th>\n",
       "      <th>0.7</th>\n",
       "      <th>0.8</th>\n",
       "      <th>0.9</th>\n",
       "      <th>0.95</th>\n",
       "      <th>1.0</th>\n",
       "    </tr>\n",
       "  </thead>\n",
       "  <tbody>\n",
       "    <tr>\n",
       "      <th>displacement</th>\n",
       "      <td>0.0</td>\n",
       "      <td>0.0</td>\n",
       "      <td>0.0</td>\n",
       "      <td>0.00111</td>\n",
       "      <td>0.001394</td>\n",
       "      <td>0.001684</td>\n",
       "      <td>0.00222</td>\n",
       "      <td>0.0026</td>\n",
       "      <td>0.003436</td>\n",
       "      <td>0.004528</td>\n",
       "      <td>0.010137</td>\n",
       "      <td>0.360293</td>\n",
       "      <td>2212.45271</td>\n",
       "    </tr>\n",
       "  </tbody>\n",
       "</table>\n",
       "</div>"
      ],
      "text/plain": [
       "              0.00  0.05  0.10     0.20      0.30      0.40     0.50    0.60  \\\n",
       "displacement   0.0   0.0   0.0  0.00111  0.001394  0.001684  0.00222  0.0026   \n",
       "\n",
       "                  0.70      0.80      0.90      0.95        1.00  \n",
       "displacement  0.003436  0.004528  0.010137  0.360293  2212.45271  "
      ]
     },
     "execution_count": 63,
     "metadata": {},
     "output_type": "execute_result"
    }
   ],
   "source": [
    "# Percentile Distribution of Distance\n",
    "print(\"Displacement in Kms\")\n",
    "pd.DataFrame(df_trip.displacement.quantile([0,0.05] + list(np.round(np.arange(0.1,1,0.1),2)) + [0.95,1.00])).T"
   ]
  },
  {
   "cell_type": "markdown",
   "metadata": {},
   "source": [
    "**90% trips have displacement less than 10m**"
   ]
  },
  {
   "cell_type": "markdown",
   "metadata": {},
   "source": [
    "### Part 2.6: Displacement vs Distance of Trips"
   ]
  },
  {
   "cell_type": "code",
   "execution_count": 69,
   "metadata": {},
   "outputs": [
    {
     "data": {
      "text/plain": [
       "Text(0,0.5,'Displacement(Kms)')"
      ]
     },
     "execution_count": 69,
     "metadata": {},
     "output_type": "execute_result"
    },
    {
     "data": {
      "image/png": "[encoded data removed]",
      "text/plain": [
       "<matplotlib.figure.Figure at 0x2b3da329bd30>"
      ]
     },
     "metadata": {
      "needs_background": "light"
     },
     "output_type": "display_data"
    }
   ],
   "source": [
    "plt.plot(df_trip.Dist, df_trip.displacement, '.')\n",
    "plt.xlabel('Distance(Kms)')\n",
    "plt.ylabel('Displacement(Kms)')"
   ]
  },
  {
   "cell_type": "markdown",
   "metadata": {},
   "source": [
    "### Part 2.7: Distance vs Trip Length of Trips"
   ]
  },
  {
   "cell_type": "code",
   "execution_count": 71,
   "metadata": {},
   "outputs": [
    {
     "data": {
      "text/plain": [
       "Text(0,0.5,'Distance(kms)')"
      ]
     },
     "execution_count": 71,
     "metadata": {},
     "output_type": "execute_result"
    },
    {
     "data": {
      "image/png": "[encoded data removed]",
      "text/plain": [
       "<matplotlib.figure.Figure at 0x2b3da3155a20>"
      ]
     },
     "metadata": {
      "needs_background": "light"
     },
     "output_type": "display_data"
    }
   ],
   "source": [
    "plt.plot(df_trip.Count,df_trip.Dist, '.')\n",
    "plt.xlabel('Trip Length')\n",
    "plt.ylabel('Distance(kms)')"
   ]
  },
  {
   "cell_type": "markdown",
   "metadata": {},
   "source": [
    "### Part 2.8: Displacement vs Trip Length"
   ]
  },
  {
   "cell_type": "code",
   "execution_count": 73,
   "metadata": {},
   "outputs": [
    {
     "data": {
      "text/plain": [
       "Text(0,0.5,'Distance(kms)')"
      ]
     },
     "execution_count": 73,
     "metadata": {},
     "output_type": "execute_result"
    },
    {
     "data": {
      "image/png": "[encoded data removed]",
      "text/plain": [
       "<matplotlib.figure.Figure at 0x2b3da2fa9f98>"
      ]
     },
     "metadata": {
      "needs_background": "light"
     },
     "output_type": "display_data"
    }
   ],
   "source": [
    "plt.plot(df_trip.Count,df_trip.displacement, '.')\n",
    "plt.xlabel('Trip Length')\n",
    "plt.ylabel('Distance(kms)')"
   ]
  }
 ],
 "metadata": {
  "kernelspec": {
   "display_name": "Python 3",
   "language": "python",
   "name": "python3"
  },
  "language_info": {
   "codemirror_mode": {
    "name": "ipython",
    "version": 3
   },
   "file_extension": ".py",
   "mimetype": "text/x-python",
   "name": "python",
   "nbconvert_exporter": "python",
   "pygments_lexer": "ipython3",
   "version": "3.6.3"
  }
 },
 "nbformat": 4,
 "nbformat_minor": 2
}
