{
 "cells": [
  {
   "cell_type": "code",
   "execution_count": 1,
   "metadata": {},
   "outputs": [],
   "source": [
    "# import libraries\n",
    "import pandas as pd\n",
    "import numpy as np\n",
    "import matplotlib.pyplot as plt\n",
    "import os\n",
    "from sklearn.preprocessing import StandardScaler\n",
    "from dateutil import rrule\n",
    "import datetime\n",
    "from sklearn.metrics import silhouette_samples, silhouette_score\n",
    "import matplotlib.cm as cm\n",
    "import numpy as np\n",
    "from scipy.spatial.distance import cdist, pdist\n",
    "from sklearn.cluster import KMeans\n",
    "import shutil\n",
    "import datetime as dt\n",
    "from IPython.display import display, clear_output\n",
    "import geopy.distance as distance\n",
    "%matplotlib inline"
   ]
  },
  {
   "cell_type": "code",
   "execution_count": 3,
   "metadata": {},
   "outputs": [
    {
     "name": "stdout",
     "output_type": "stream",
     "text": [
      "2019-06-21 16:01:26.875876  Start Process\n"
     ]
    }
   ],
   "source": [
    "print(dt.datetime.now(),\" Start Process\")"
   ]
  },
  {
   "cell_type": "code",
   "execution_count": 4,
   "metadata": {},
   "outputs": [],
   "source": [
    "# Find list of interesting files\n",
    "path = '/scratch/skp454/Trajectory/data/cleaned/'\n",
    "list_file = []\n",
    "# for file in os.listdir(path):\n",
    "#     if 'Zone18' in file and '2017' in file:\n",
    "#         list_file.append(file)\n",
    "for file in os.listdir(path):\n",
    "    if 'Zone18' in file and '2017' in file and '07' in file:\n",
    "        list_file.append(file)"
   ]
  },
  {
   "cell_type": "code",
   "execution_count": 5,
   "metadata": {},
   "outputs": [
    {
     "data": {
      "text/html": [
       "<div>\n",
       "<style scoped>\n",
       "    .dataframe tbody tr th:only-of-type {\n",
       "        vertical-align: middle;\n",
       "    }\n",
       "\n",
       "    .dataframe tbody tr th {\n",
       "        vertical-align: top;\n",
       "    }\n",
       "\n",
       "    .dataframe thead th {\n",
       "        text-align: right;\n",
       "    }\n",
       "</style>\n",
       "<table border=\"1\" class=\"dataframe\">\n",
       "  <thead>\n",
       "    <tr style=\"text-align: right;\">\n",
       "      <th></th>\n",
       "      <th>MMSI</th>\n",
       "      <th>BaseDateTime</th>\n",
       "      <th>LAT</th>\n",
       "      <th>LON</th>\n",
       "      <th>Heading</th>\n",
       "    </tr>\n",
       "  </thead>\n",
       "  <tbody>\n",
       "    <tr>\n",
       "      <th>0</th>\n",
       "      <td>369500003</td>\n",
       "      <td>2017-07-01T00:00:03</td>\n",
       "      <td>40.63894</td>\n",
       "      <td>-74.15579</td>\n",
       "      <td>511.0</td>\n",
       "    </tr>\n",
       "    <tr>\n",
       "      <th>1</th>\n",
       "      <td>338135000</td>\n",
       "      <td>2017-07-01T00:00:02</td>\n",
       "      <td>36.83649</td>\n",
       "      <td>-76.26639</td>\n",
       "      <td>511.0</td>\n",
       "    </tr>\n",
       "    <tr>\n",
       "      <th>2</th>\n",
       "      <td>338208499</td>\n",
       "      <td>2017-07-01T00:00:00</td>\n",
       "      <td>41.09434</td>\n",
       "      <td>-73.41159</td>\n",
       "      <td>511.0</td>\n",
       "    </tr>\n",
       "    <tr>\n",
       "      <th>3</th>\n",
       "      <td>367015880</td>\n",
       "      <td>2017-07-01T00:00:09</td>\n",
       "      <td>40.64157</td>\n",
       "      <td>-74.12044</td>\n",
       "      <td>511.0</td>\n",
       "    </tr>\n",
       "    <tr>\n",
       "      <th>4</th>\n",
       "      <td>338232227</td>\n",
       "      <td>2017-07-01T00:00:09</td>\n",
       "      <td>36.84335</td>\n",
       "      <td>-76.29097</td>\n",
       "      <td>511.0</td>\n",
       "    </tr>\n",
       "  </tbody>\n",
       "</table>\n",
       "</div>"
      ],
      "text/plain": [
       "        MMSI         BaseDateTime       LAT       LON  Heading\n",
       "0  369500003  2017-07-01T00:00:03  40.63894 -74.15579    511.0\n",
       "1  338135000  2017-07-01T00:00:02  36.83649 -76.26639    511.0\n",
       "2  338208499  2017-07-01T00:00:00  41.09434 -73.41159    511.0\n",
       "3  367015880  2017-07-01T00:00:09  40.64157 -74.12044    511.0\n",
       "4  338232227  2017-07-01T00:00:09  36.84335 -76.29097    511.0"
      ]
     },
     "execution_count": 5,
     "metadata": {},
     "output_type": "execute_result"
    }
   ],
   "source": [
    "# open files of interests and append together\n",
    "df_main = pd.DataFrame()\n",
    "for file in list_file:\n",
    "    df_temp = pd.read_csv(path + file)\n",
    "    df_main = df_main.append(df_temp)\n",
    "df_main.head()"
   ]
  },
  {
   "cell_type": "code",
   "execution_count": 11,
   "metadata": {},
   "outputs": [
    {
     "name": "stdout",
     "output_type": "stream",
     "text": [
      "LAT 2.22854 80.67124\n",
      "LON -78.0 -72.0\n",
      "35775789\n"
     ]
    },
    {
     "name": "stderr",
     "output_type": "stream",
     "text": [
      "/home/skp454/bigdata/bdpy/lib/python3.6/site-packages/pandas/core/computation/expressions.py:183: UserWarning: evaluating in Python space because the '*' operator is not supported by numexpr for the bool dtype, use '&' instead\n",
      "  .format(op=op_str, alt_op=unsupported[op_str]))\n"
     ]
    },
    {
     "name": "stdout",
     "output_type": "stream",
     "text": [
      "LAT 39.00003 39.99999\n",
      "LON -72.99999 -72.00001\n",
      "162505\n"
     ]
    }
   ],
   "source": [
    "# Trim data based on Lat Lon\n",
    "print('LAT', df_main['LAT'].min(), df_main['LAT'].max())\n",
    "print('LON', df_main['LON'].min(), df_main['LON'].max())\n",
    "print(len(df_main))\n",
    "\n",
    "df_main = df_main[(df_main['LAT']>39) * (df_main['LAT']<40)]\n",
    "df_main = df_main[(df_main['LON']>-73) * (df_main['LON']<-72)]\n",
    "\n",
    "print('LAT', df_main['LAT'].min(), df_main['LAT'].max())\n",
    "print('LON', df_main['LON'].min(), df_main['LON'].max())\n",
    "print(len(df_main))"
   ]
  },
  {
   "cell_type": "code",
   "execution_count": 12,
   "metadata": {},
   "outputs": [
    {
     "name": "stdout",
     "output_type": "stream",
     "text": [
      "No.of Active Vessels 425\n"
     ]
    }
   ],
   "source": [
    "#number of active vessels\n",
    "VN=len(df_main.MMSI.unique());\n",
    "print(\"No.of Active Vessels\", VN)"
   ]
  },
  {
   "cell_type": "code",
   "execution_count": 13,
   "metadata": {},
   "outputs": [
    {
     "name": "stdout",
     "output_type": "stream",
     "text": [
      "2019-06-21 16:04:55.750863  Change to DateTime\n"
     ]
    }
   ],
   "source": [
    "print(dt.datetime.now(),\" Change to DateTime\")"
   ]
  },
  {
   "cell_type": "code",
   "execution_count": 14,
   "metadata": {},
   "outputs": [],
   "source": [
    "# convert to datetime\n",
    "df_main['BaseDateTime'] =pd.to_datetime(df_main.BaseDateTime)\n",
    "\n",
    "# sort df_main\n",
    "df_main = df_main.sort_values(by=['MMSI','BaseDateTime'])\n",
    "\n",
    "#reset_index\n",
    "df_main.reset_index(inplace=True, drop=True)"
   ]
  },
  {
   "cell_type": "code",
   "execution_count": 15,
   "metadata": {},
   "outputs": [
    {
     "name": "stdout",
     "output_type": "stream",
     "text": [
      "2019-06-21 16:05:01.945777  Calculate Time Intervals\n"
     ]
    }
   ],
   "source": [
    "print(dt.datetime.now(),\" Creating Trips\")"
   ]
  },
  {
   "cell_type": "code",
   "execution_count": null,
   "metadata": {},
   "outputs": [],
   "source": [
    "# function to calculate distance between consecutive points\n",
    "def calcDist(lat, lon):\n",
    "    df_dist = pd.DataFrame(np.array([lat[:-1],lon[:-1],lat[1:],lon[1:]]).T)\n",
    "    df_dist['Dist'] = df_dist.apply(lambda row: distance.geodesic((row[0],row[1]),(row[2],row[3])).km, axis=1)\n",
    "    return df_dist['Dist']"
   ]
  },
  {
   "cell_type": "code",
   "execution_count": 68,
   "metadata": {},
   "outputs": [
    {
     "data": {
      "text/html": [
       "<div>\n",
       "<style scoped>\n",
       "    .dataframe tbody tr th:only-of-type {\n",
       "        vertical-align: middle;\n",
       "    }\n",
       "\n",
       "    .dataframe tbody tr th {\n",
       "        vertical-align: top;\n",
       "    }\n",
       "\n",
       "    .dataframe thead th {\n",
       "        text-align: right;\n",
       "    }\n",
       "</style>\n",
       "<table border=\"1\" class=\"dataframe\">\n",
       "  <thead>\n",
       "    <tr style=\"text-align: right;\">\n",
       "      <th></th>\n",
       "      <th>MMSI</th>\n",
       "      <th>BaseDateTime</th>\n",
       "      <th>LAT</th>\n",
       "      <th>LON</th>\n",
       "      <th>Heading</th>\n",
       "      <th>TimeDiff</th>\n",
       "      <th>mmsiDiff</th>\n",
       "      <th>Dist</th>\n",
       "      <th>Speed</th>\n",
       "      <th>Stationary</th>\n",
       "      <th>trip_id</th>\n",
       "    </tr>\n",
       "  </thead>\n",
       "  <tbody>\n",
       "    <tr>\n",
       "      <th>0</th>\n",
       "      <td>145130109</td>\n",
       "      <td>2017-07-17 06:49:44</td>\n",
       "      <td>39.29958</td>\n",
       "      <td>-72.28732</td>\n",
       "      <td>511.0</td>\n",
       "      <td>0.0</td>\n",
       "      <td>False</td>\n",
       "      <td>0.000000</td>\n",
       "      <td>0.000000</td>\n",
       "      <td>True</td>\n",
       "      <td>1</td>\n",
       "    </tr>\n",
       "    <tr>\n",
       "      <th>1</th>\n",
       "      <td>145130109</td>\n",
       "      <td>2017-07-17 06:52:04</td>\n",
       "      <td>39.29939</td>\n",
       "      <td>-72.28784</td>\n",
       "      <td>511.0</td>\n",
       "      <td>140.0</td>\n",
       "      <td>True</td>\n",
       "      <td>0.049568</td>\n",
       "      <td>1.274596</td>\n",
       "      <td>False</td>\n",
       "      <td>1</td>\n",
       "    </tr>\n",
       "    <tr>\n",
       "      <th>2</th>\n",
       "      <td>145130109</td>\n",
       "      <td>2017-07-17 07:06:43</td>\n",
       "      <td>39.29874</td>\n",
       "      <td>-72.29089</td>\n",
       "      <td>511.0</td>\n",
       "      <td>879.0</td>\n",
       "      <td>True</td>\n",
       "      <td>0.272812</td>\n",
       "      <td>1.117319</td>\n",
       "      <td>False</td>\n",
       "      <td>1</td>\n",
       "    </tr>\n",
       "    <tr>\n",
       "      <th>3</th>\n",
       "      <td>145130109</td>\n",
       "      <td>2017-07-17 07:08:16</td>\n",
       "      <td>39.29864</td>\n",
       "      <td>-72.29123</td>\n",
       "      <td>511.0</td>\n",
       "      <td>93.0</td>\n",
       "      <td>True</td>\n",
       "      <td>0.031360</td>\n",
       "      <td>1.213925</td>\n",
       "      <td>False</td>\n",
       "      <td>1</td>\n",
       "    </tr>\n",
       "    <tr>\n",
       "      <th>4</th>\n",
       "      <td>145130109</td>\n",
       "      <td>2017-07-17 07:10:05</td>\n",
       "      <td>39.29850</td>\n",
       "      <td>-72.29152</td>\n",
       "      <td>511.0</td>\n",
       "      <td>109.0</td>\n",
       "      <td>True</td>\n",
       "      <td>0.029451</td>\n",
       "      <td>0.972699</td>\n",
       "      <td>False</td>\n",
       "      <td>1</td>\n",
       "    </tr>\n",
       "  </tbody>\n",
       "</table>\n",
       "</div>"
      ],
      "text/plain": [
       "        MMSI        BaseDateTime       LAT       LON  Heading  TimeDiff  \\\n",
       "0  145130109 2017-07-17 06:49:44  39.29958 -72.28732    511.0       0.0   \n",
       "1  145130109 2017-07-17 06:52:04  39.29939 -72.28784    511.0     140.0   \n",
       "2  145130109 2017-07-17 07:06:43  39.29874 -72.29089    511.0     879.0   \n",
       "3  145130109 2017-07-17 07:08:16  39.29864 -72.29123    511.0      93.0   \n",
       "4  145130109 2017-07-17 07:10:05  39.29850 -72.29152    511.0     109.0   \n",
       "\n",
       "   mmsiDiff      Dist     Speed  Stationary  trip_id  \n",
       "0     False  0.000000  0.000000        True        1  \n",
       "1      True  0.049568  1.274596       False        1  \n",
       "2      True  0.272812  1.117319       False        1  \n",
       "3      True  0.031360  1.213925       False        1  \n",
       "4      True  0.029451  0.972699       False        1  "
      ]
     },
     "execution_count": 68,
     "metadata": {},
     "output_type": "execute_result"
    }
   ],
   "source": [
    "# create time_Diff\n",
    "t=np.array(df_main.BaseDateTime)\n",
    "I=list((t[1:]-t[:-1])/np.timedelta64(1, 's'))\n",
    "I=[0] + I\n",
    "df_main['TimeDiff'] = I\n",
    "\n",
    "# MMSI Diff\n",
    "m=np.array(df_main.MMSI)\n",
    "M=list(m[1:]-m[:-1])\n",
    "M=[1] + M\n",
    "df_main['mmsiDiff'] = M\n",
    "\n",
    "# Distance diff\n",
    "df_main['Dist'] = [0] + list(calcDist(df_main['LAT'],df_main['LON']))\n",
    "\n",
    "#Speed\n",
    "df_main['Speed'] = (df_main['Dist']*3600)/df_main['TimeDiff']\n",
    "df_main['Speed'].fillna(0, inplace =True)\n",
    "\n",
    "#Actual time Diff\n",
    "df_main['mmsiDiff'] = df_main['mmsiDiff']==0\n",
    "df_main['TimeDiff'] = df_main['TimeDiff'] * df_main['mmsiDiff']\n",
    "df_main['Dist'] = df_main['Dist'] * df_main['mmsiDiff']\n",
    "df_main['Speed'] = df_main['Speed'] * df_main['mmsiDiff']\n",
    "\n",
    "# drop unneccessary zero time diff\n",
    "df_main.drop(index = df_main[(df_main['TimeDiff']==0)*(df_main['mmsiDiff']==True)].index, inplace =True)\n",
    "\n",
    "#reset_index\n",
    "df_main.reset_index(inplace=True, drop=True)\n",
    "\n",
    "# stationarity\n",
    "df_main['Stationary'] = df_main['Speed']<0.03\n",
    "\n",
    "# stationarity id\n",
    "df_main['trip_id'] = df_main['Stationary'].cumsum()\n",
    "\n",
    "# view data\n",
    "df_main.head()"
   ]
  },
  {
   "cell_type": "code",
   "execution_count": null,
   "metadata": {},
   "outputs": [],
   "source": [
    "# Save data\n",
    "df_main.to_csv('/scratch/skp454/Trajectory/data/20190621_AISTripMainData.csv')"
   ]
  },
  {
   "cell_type": "code",
   "execution_count": null,
   "metadata": {},
   "outputs": [],
   "source": [
    "print(dt.datetime.now(),\" Creating Trips Statistics\")"
   ]
  },
  {
   "cell_type": "code",
   "execution_count": 108,
   "metadata": {},
   "outputs": [],
   "source": [
    "# calculate dispacement\n",
    "df_displacement = pd.DataFrame()\n",
    "df_displacement['trip_id'] = list(df_main[df_main['Stationary'] == 1].trip_id)\n",
    "df_displacement['Start'] = list(df_main[df_main['Stationary'] == 1].index)\n",
    "df_displacement['End'] = list(df_main[df_main['Stationary'] == 1].index)[1:] + [len(df_main)]\n",
    "df_displacement['End'] = df_displacement['End'] - 1\n",
    "df_displacement['displacement'] = df_displacement.apply(lambda row:distance.geodesic\\\n",
    "                                                        ((df_main.loc[row['Start'],'LAT'],\n",
    "                                                          df_main.loc[row['Start'],'LON']),\n",
    "                                                         (df_main.loc[row['End'],'LAT'],\n",
    "                                                          df_main.loc[row['End'],'LON'])).km, axis =1)\n",
    "# Calculate Distance Time and Speed for Trips\n",
    "df_main = df_main[df_main['Stationary'] == False]\n",
    "df_main['Count'] = 1\n",
    "df_trip = pd.DataFrame(df_main.groupby(['trip_id','MMSI'], as_index=False)['Dist','TimeDiff','Count'].sum())\n",
    "del df_main['Count']\n",
    "df_trip['Speed'] = df_trip['Dist']*3600/df_trip['TimeDiff']\n",
    "\n",
    "# Merge with trip data\n",
    "df_trip = df_trip.merge(df_displacement[['trip_id','displacement']], on ='trip_id', how='inner')\n",
    "\n",
    "# Save trip data\n",
    "df_trip.to_csv('/scratch/skp454/Trajectory/data/20190621_AISTripStatsData.csv')"
   ]
  }
 ],
 "metadata": {
  "kernelspec": {
   "display_name": "Python 3",
   "language": "python",
   "name": "python3"
  },
  "language_info": {
   "codemirror_mode": {
    "name": "ipython",
    "version": 3
   },
   "file_extension": ".py",
   "mimetype": "text/x-python",
   "name": "python",
   "nbconvert_exporter": "python",
   "pygments_lexer": "ipython3",
   "version": "3.6.3"
  }
 },
 "nbformat": 4,
 "nbformat_minor": 2
}
