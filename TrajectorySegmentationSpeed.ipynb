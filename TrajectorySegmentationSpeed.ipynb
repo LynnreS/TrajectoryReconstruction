{
 "cells": [
  {
   "cell_type": "code",
   "execution_count": 4,
   "metadata": {},
   "outputs": [],
   "source": [
    "# import libraries\n",
    "import pandas as pd\n",
    "import numpy as np\n",
    "import matplotlib.pyplot as plt\n",
    "import os\n",
    "from sklearn.preprocessing import StandardScaler\n",
    "from dateutil import rrule\n",
    "import datetime\n",
    "from sklearn.metrics import silhouette_samples, silhouette_score\n",
    "import matplotlib.cm as cm\n",
    "import numpy as np\n",
    "from scipy.spatial.distance import cdist, pdist\n",
    "from sklearn.cluster import KMeans\n",
    "import shutil\n",
    "import datetime as dt\n",
    "from IPython.display import display, clear_output\n",
    "import geopy.distance as distance\n",
    "%matplotlib inline"
   ]
  },
  {
   "cell_type": "code",
   "execution_count": 5,
   "metadata": {},
   "outputs": [
    {
     "name": "stdout",
     "output_type": "stream",
     "text": [
      "2019-06-27 22:17:52.582522  Start Process\n"
     ]
    }
   ],
   "source": [
    "print(dt.datetime.now(),\" Start Process\")"
   ]
  },
  {
   "cell_type": "code",
   "execution_count": 6,
   "metadata": {},
   "outputs": [
    {
     "data": {
      "text/html": [
       "<div>\n",
       "<style scoped>\n",
       "    .dataframe tbody tr th:only-of-type {\n",
       "        vertical-align: middle;\n",
       "    }\n",
       "\n",
       "    .dataframe tbody tr th {\n",
       "        vertical-align: top;\n",
       "    }\n",
       "\n",
       "    .dataframe thead th {\n",
       "        text-align: right;\n",
       "    }\n",
       "</style>\n",
       "<table border=\"1\" class=\"dataframe\">\n",
       "  <thead>\n",
       "    <tr style=\"text-align: right;\">\n",
       "      <th></th>\n",
       "      <th>Unnamed: 0</th>\n",
       "      <th>TaxiID</th>\n",
       "      <th>BaseDateTime</th>\n",
       "      <th>LON</th>\n",
       "      <th>LAT</th>\n",
       "    </tr>\n",
       "  </thead>\n",
       "  <tbody>\n",
       "    <tr>\n",
       "      <th>0</th>\n",
       "      <td>0</td>\n",
       "      <td>4276</td>\n",
       "      <td>2008-02-02 13:33:16</td>\n",
       "      <td>116.40189</td>\n",
       "      <td>39.95029</td>\n",
       "    </tr>\n",
       "    <tr>\n",
       "      <th>1</th>\n",
       "      <td>1</td>\n",
       "      <td>4276</td>\n",
       "      <td>2008-02-02 13:38:16</td>\n",
       "      <td>116.40166</td>\n",
       "      <td>39.96365</td>\n",
       "    </tr>\n",
       "    <tr>\n",
       "      <th>2</th>\n",
       "      <td>2</td>\n",
       "      <td>4276</td>\n",
       "      <td>2008-02-02 13:43:16</td>\n",
       "      <td>116.40125</td>\n",
       "      <td>39.97397</td>\n",
       "    </tr>\n",
       "    <tr>\n",
       "      <th>3</th>\n",
       "      <td>3</td>\n",
       "      <td>4276</td>\n",
       "      <td>2008-02-02 13:49:20</td>\n",
       "      <td>116.38842</td>\n",
       "      <td>39.97056</td>\n",
       "    </tr>\n",
       "    <tr>\n",
       "      <th>4</th>\n",
       "      <td>4</td>\n",
       "      <td>4276</td>\n",
       "      <td>2008-02-02 13:53:16</td>\n",
       "      <td>116.40126</td>\n",
       "      <td>39.97289</td>\n",
       "    </tr>\n",
       "  </tbody>\n",
       "</table>\n",
       "</div>"
      ],
      "text/plain": [
       "   Unnamed: 0  TaxiID         BaseDateTime        LON       LAT\n",
       "0           0    4276  2008-02-02 13:33:16  116.40189  39.95029\n",
       "1           1    4276  2008-02-02 13:38:16  116.40166  39.96365\n",
       "2           2    4276  2008-02-02 13:43:16  116.40125  39.97397\n",
       "3           3    4276  2008-02-02 13:49:20  116.38842  39.97056\n",
       "4           4    4276  2008-02-02 13:53:16  116.40126  39.97289"
      ]
     },
     "execution_count": 6,
     "metadata": {},
     "output_type": "execute_result"
    }
   ],
   "source": [
    "# open files of interests and append together\n",
    "df_main = pd.read_csv('/scratch/skp454/Trajectory/TaxiDataSet/data/20190627_TaxiData.csv')\n",
    "df_main.head()"
   ]
  },
  {
   "cell_type": "code",
   "execution_count": 67,
   "metadata": {},
   "outputs": [
    {
     "name": "stdout",
     "output_type": "stream",
     "text": [
      "LAT 0.0 96.06767\n",
      "LON 0.0 255.3\n",
      "17662984\n",
      "LAT 35.00488 44.99615\n",
      "LON 110.00051 124.99512\n",
      "17608819\n"
     ]
    }
   ],
   "source": [
    "# Trim data based on Lat Lon\n",
    "print('LAT', df_main['LAT'].min(), df_main['LAT'].max())\n",
    "print('LON', df_main['LON'].min(), df_main['LON'].max())\n",
    "print(len(df_main))\n",
    "\n",
    "df_main = df_main[(df_main['LAT']>35) * (df_main['LAT']<45)]\n",
    "df_main = df_main[(df_main['LON']>110) * (df_main['LON']<125)]\n",
    "\n",
    "print('LAT', df_main['LAT'].min(), df_main['LAT'].max())\n",
    "print('LON', df_main['LON'].min(), df_main['LON'].max())\n",
    "print(len(df_main))"
   ]
  },
  {
   "cell_type": "code",
   "execution_count": null,
   "metadata": {},
   "outputs": [],
   "source": [
    "#number of active taxi\n",
    "VN=len(df_main.TaxiID.unique());\n",
    "print(\"No.of Active Vessels\", VN)"
   ]
  },
  {
   "cell_type": "code",
   "execution_count": null,
   "metadata": {},
   "outputs": [],
   "source": [
    "print(dt.datetime.now(),\" Change to DateTime\")"
   ]
  },
  {
   "cell_type": "code",
   "execution_count": null,
   "metadata": {},
   "outputs": [],
   "source": [
    "# convert to datetime\n",
    "df_main['BaseDateTime'] =pd.to_datetime(df_main.BaseDateTime)\n",
    "\n",
    "# sort df_main\n",
    "df_main = df_main.sort_values(by=['TaxiID','BaseDateTime'])\n",
    "\n",
    "#reset_index\n",
    "df_main.reset_index(inplace=True, drop=True)"
   ]
  },
  {
   "cell_type": "code",
   "execution_count": null,
   "metadata": {},
   "outputs": [],
   "source": [
    "print(dt.datetime.now(),\" Creating Trips\")"
   ]
  },
  {
   "cell_type": "code",
   "execution_count": null,
   "metadata": {},
   "outputs": [],
   "source": [
    "# function to calculate distance between consecutive points\n",
    "def calcDist(lat, lon):\n",
    "    df_dist = pd.DataFrame(np.array([lat[:-1],lon[:-1],lat[1:],lon[1:]]).T)\n",
    "    df_dist['Dist'] = df_dist.apply(lambda row: distance.geodesic((row[0],row[1]),(row[2],row[3])).km, axis=1)\n",
    "    return df_dist['Dist']"
   ]
  },
  {
   "cell_type": "code",
   "execution_count": null,
   "metadata": {},
   "outputs": [],
   "source": [
    "# create time_Diff\n",
    "t=np.array(df_main.BaseDateTime)\n",
    "I=list((t[1:]-t[:-1])/np.timedelta64(1, 's'))\n",
    "I=[0] + I\n",
    "df_main['TimeDiff'] = I\n",
    "\n",
    "# MMSI Diff\n",
    "m=np.array(df_main.TaxiID)\n",
    "M=list(m[1:]-m[:-1])\n",
    "M=[1] + M\n",
    "df_main['IdDiff'] = M\n",
    "\n",
    "# Distance diff\n",
    "df_main['Dist'] = [0] + list(calcDist(df_main['LAT'],df_main['LON']))\n",
    "\n",
    "#Speed\n",
    "df_main['Speed'] = (df_main['Dist']*3600)/df_main['TimeDiff']\n",
    "df_main['Speed'].fillna(0, inplace =True)\n",
    "\n",
    "#Actual time Diff\n",
    "df_main['IdDiff'] = df_main['IdDiff']==0\n",
    "df_main['TimeDiff'] = df_main['TimeDiff'] * df_main['IdDiff']\n",
    "df_main['Dist'] = df_main['Dist'] * df_main['IdDiff']\n",
    "df_main['Speed'] = df_main['Speed'] * df_main['IdDiff']\n",
    "\n",
    "# drop unneccessary zero time diff\n",
    "df_main.drop(index = df_main[(df_main['TimeDiff']==0)*(df_main['IdDiff']==True)].index, inplace =True)\n",
    "\n",
    "#reset_index\n",
    "df_main.reset_index(inplace=True, drop=True)\n",
    "\n",
    "# stationarity\n",
    "df_main['Stationary'] = df_main['Speed']<0.03\n",
    "\n",
    "# stationarity id\n",
    "df_main['trip_id'] = df_main['Stationary'].cumsum()\n",
    "\n",
    "# view data\n",
    "df_main.head()"
   ]
  },
  {
   "cell_type": "code",
   "execution_count": null,
   "metadata": {},
   "outputs": [],
   "source": [
    "# Save data\n",
    "df_main.to_csv('/scratch/skp454/Trajectory/TaxiDataSet/data/20190627_TaxiTripMainData.csv', index = False)"
   ]
  },
  {
   "cell_type": "code",
   "execution_count": null,
   "metadata": {},
   "outputs": [],
   "source": [
    "print(dt.datetime.now(),\" Creating Trips Statistics\")"
   ]
  },
  {
   "cell_type": "code",
   "execution_count": null,
   "metadata": {},
   "outputs": [],
   "source": [
    "# calculate dispacement\n",
    "df_displacement = pd.DataFrame()\n",
    "df_displacement['trip_id'] = list(df_main[df_main['Stationary'] == 1].trip_id)\n",
    "df_displacement['Start'] = list(df_main[df_main['Stationary'] == 1].index)\n",
    "df_displacement['End'] = list(df_main[df_main['Stationary'] == 1].index)[1:] + [len(df_main)]\n",
    "df_displacement['End'] = df_displacement['End'] - 1\n",
    "df_displacement['displacement'] = df_displacement.apply(lambda row:distance.geodesic\\\n",
    "                                                        ((df_main.loc[row['Start'],'LAT'],\n",
    "                                                          df_main.loc[row['Start'],'LON']),\n",
    "                                                         (df_main.loc[row['End'],'LAT'],\n",
    "                                                          df_main.loc[row['End'],'LON'])).km, axis =1)\n",
    "# Calculate Distance Time and Speed for Trips\n",
    "df_main = df_main[df_main['Stationary'] == False]\n",
    "df_main['Count'] = 1\n",
    "df_trip = pd.DataFrame(df_main.groupby(['trip_id','TaxiID'], as_index=False)['Dist','TimeDiff','Count'].sum())\n",
    "del df_main['Count']\n",
    "df_trip['Speed'] = df_trip['Dist']*3600/df_trip['TimeDiff']\n",
    "\n",
    "# Merge with trip data\n",
    "df_trip = df_trip.merge(df_displacement[['trip_id','displacement']], on ='trip_id', how='inner')\n",
    "\n",
    "# Save trip data\n",
    "df_trip.to_csv('/scratch/skp454/Trajectory/TaxiDataSet/data/20190621_TaxiTripStatsData.csv', index = False)"
   ]
  }
 ],
 "metadata": {
  "kernelspec": {
   "display_name": "Python 3",
   "language": "python",
   "name": "python3"
  },
  "language_info": {
   "codemirror_mode": {
    "name": "ipython",
    "version": 3
   },
   "file_extension": ".py",
   "mimetype": "text/x-python",
   "name": "python",
   "nbconvert_exporter": "python",
   "pygments_lexer": "ipython3",
   "version": "3.6.3"
  }
 },
 "nbformat": 4,
 "nbformat_minor": 2
}
