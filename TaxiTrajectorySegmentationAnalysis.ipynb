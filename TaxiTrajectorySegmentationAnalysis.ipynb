{
 "cells": [
  {
   "cell_type": "code",
   "execution_count": 1,
   "metadata": {},
   "outputs": [],
   "source": [
    "# import libraries\n",
    "import pandas as pd\n",
    "import numpy as np\n",
    "import matplotlib.pyplot as plt\n",
    "import os\n",
    "from sklearn.preprocessing import StandardScaler\n",
    "from dateutil import rrule\n",
    "import datetime\n",
    "from sklearn.metrics import silhouette_samples, silhouette_score\n",
    "import matplotlib.cm as cm\n",
    "import numpy as np\n",
    "from scipy.spatial.distance import cdist, pdist\n",
    "from sklearn.cluster import KMeans\n",
    "import shutil\n",
    "import datetime as dt\n",
    "from IPython.display import display, clear_output\n",
    "import geopy.distance as distance\n",
    "import pickle\n",
    "%matplotlib inline"
   ]
  },
  {
   "cell_type": "code",
   "execution_count": 2,
   "metadata": {},
   "outputs": [],
   "source": [
    "def log_2_product(x, pos):\n",
    "    \"\"\"The two args are the value and tick position.\n",
    "    Label ticks with the product of the exponentiation\"\"\"\n",
    "    return np.round(2**x,3)\n",
    "formatter = plt.FuncFormatter(log_2_product)"
   ]
  },
  {
   "cell_type": "markdown",
   "metadata": {},
   "source": [
    "## Part 1: Analysis of Main Data (Before Splitting to Trips)"
   ]
  },
  {
   "cell_type": "code",
   "execution_count": 3,
   "metadata": {},
   "outputs": [
    {
     "data": {
      "text/html": [
       "<div>\n",
       "<style scoped>\n",
       "    .dataframe tbody tr th:only-of-type {\n",
       "        vertical-align: middle;\n",
       "    }\n",
       "\n",
       "    .dataframe tbody tr th {\n",
       "        vertical-align: top;\n",
       "    }\n",
       "\n",
       "    .dataframe thead th {\n",
       "        text-align: right;\n",
       "    }\n",
       "</style>\n",
       "<table border=\"1\" class=\"dataframe\">\n",
       "  <thead>\n",
       "    <tr style=\"text-align: right;\">\n",
       "      <th></th>\n",
       "      <th>TaxiID</th>\n",
       "      <th>BaseDateTime</th>\n",
       "      <th>LON</th>\n",
       "      <th>LAT</th>\n",
       "      <th>TimeDiff</th>\n",
       "      <th>IdDiff</th>\n",
       "      <th>Dist</th>\n",
       "      <th>Speed</th>\n",
       "      <th>Stationary</th>\n",
       "      <th>trip_id</th>\n",
       "    </tr>\n",
       "  </thead>\n",
       "  <tbody>\n",
       "    <tr>\n",
       "      <th>0</th>\n",
       "      <td>1</td>\n",
       "      <td>2008-02-02 15:36:08</td>\n",
       "      <td>116.51172</td>\n",
       "      <td>39.92123</td>\n",
       "      <td>0.0</td>\n",
       "      <td>False</td>\n",
       "      <td>0.000000</td>\n",
       "      <td>0.000000</td>\n",
       "      <td>True</td>\n",
       "      <td>1</td>\n",
       "    </tr>\n",
       "    <tr>\n",
       "      <th>1</th>\n",
       "      <td>1</td>\n",
       "      <td>2008-02-02 15:46:08</td>\n",
       "      <td>116.51135</td>\n",
       "      <td>39.93883</td>\n",
       "      <td>600.0</td>\n",
       "      <td>True</td>\n",
       "      <td>1.954442</td>\n",
       "      <td>11.726651</td>\n",
       "      <td>False</td>\n",
       "      <td>1</td>\n",
       "    </tr>\n",
       "    <tr>\n",
       "      <th>2</th>\n",
       "      <td>1</td>\n",
       "      <td>2008-02-02 15:56:08</td>\n",
       "      <td>116.51627</td>\n",
       "      <td>39.91034</td>\n",
       "      <td>600.0</td>\n",
       "      <td>True</td>\n",
       "      <td>3.191175</td>\n",
       "      <td>19.147047</td>\n",
       "      <td>False</td>\n",
       "      <td>1</td>\n",
       "    </tr>\n",
       "    <tr>\n",
       "      <th>3</th>\n",
       "      <td>1</td>\n",
       "      <td>2008-02-02 16:06:08</td>\n",
       "      <td>116.47186</td>\n",
       "      <td>39.91248</td>\n",
       "      <td>600.0</td>\n",
       "      <td>True</td>\n",
       "      <td>3.804664</td>\n",
       "      <td>22.827986</td>\n",
       "      <td>False</td>\n",
       "      <td>1</td>\n",
       "    </tr>\n",
       "    <tr>\n",
       "      <th>4</th>\n",
       "      <td>1</td>\n",
       "      <td>2008-02-02 16:16:08</td>\n",
       "      <td>116.47217</td>\n",
       "      <td>39.92498</td>\n",
       "      <td>600.0</td>\n",
       "      <td>True</td>\n",
       "      <td>1.388166</td>\n",
       "      <td>8.328999</td>\n",
       "      <td>False</td>\n",
       "      <td>1</td>\n",
       "    </tr>\n",
       "  </tbody>\n",
       "</table>\n",
       "</div>"
      ],
      "text/plain": [
       "   TaxiID         BaseDateTime        LON       LAT  TimeDiff  IdDiff  \\\n",
       "0       1  2008-02-02 15:36:08  116.51172  39.92123       0.0   False   \n",
       "1       1  2008-02-02 15:46:08  116.51135  39.93883     600.0    True   \n",
       "2       1  2008-02-02 15:56:08  116.51627  39.91034     600.0    True   \n",
       "3       1  2008-02-02 16:06:08  116.47186  39.91248     600.0    True   \n",
       "4       1  2008-02-02 16:16:08  116.47217  39.92498     600.0    True   \n",
       "\n",
       "       Dist      Speed  Stationary  trip_id  \n",
       "0  0.000000   0.000000        True        1  \n",
       "1  1.954442  11.726651       False        1  \n",
       "2  3.191175  19.147047       False        1  \n",
       "3  3.804664  22.827986       False        1  \n",
       "4  1.388166   8.328999       False        1  "
      ]
     },
     "execution_count": 3,
     "metadata": {},
     "output_type": "execute_result"
    }
   ],
   "source": [
    "# import data\n",
    "df_tripMain = pd.read_csv('/scratch/skp454/Trajectory/TaxiDataSet/data/20190627_TaxiTripMainData.csv')\n",
    "del df_tripMain['Unnamed: 0']\n",
    "df_tripMain.head()"
   ]
  },
  {
   "cell_type": "markdown",
   "metadata": {},
   "source": [
    "### Part 1.0: Trajectory and Data Points"
   ]
  },
  {
   "cell_type": "markdown",
   "metadata": {},
   "source": [
    "Here we check the number of vessels/trajectories in our dataset, and the distribution of the number of data points corresponding to each trajectories."
   ]
  },
  {
   "cell_type": "code",
   "execution_count": 4,
   "metadata": {},
   "outputs": [
    {
     "name": "stdout",
     "output_type": "stream",
     "text": [
      "Total Number of Trajectories: 10292\n",
      "Total Number of Data Points: 16.271472 Millions\n"
     ]
    }
   ],
   "source": [
    "# Number of trajectories and data points\n",
    "print('Total Number of Trajectories:', len(df_tripMain.TaxiID.unique()))\n",
    "print('Total Number of Data Points:', len(df_tripMain)/1000000, \"Millions\")"
   ]
  },
  {
   "cell_type": "markdown",
   "metadata": {},
   "source": [
    "**We have 10292 traj and 16.27million data points**\n",
    "\n",
    "Roughly we have 1500 points per trajectory"
   ]
  },
  {
   "cell_type": "code",
   "execution_count": 5,
   "metadata": {},
   "outputs": [
    {
     "name": "stdout",
     "output_type": "stream",
     "text": [
      "Data Points per Trajectory\n"
     ]
    },
    {
     "data": {
      "text/html": [
       "<div>\n",
       "<style scoped>\n",
       "    .dataframe tbody tr th:only-of-type {\n",
       "        vertical-align: middle;\n",
       "    }\n",
       "\n",
       "    .dataframe tbody tr th {\n",
       "        vertical-align: top;\n",
       "    }\n",
       "\n",
       "    .dataframe thead th {\n",
       "        text-align: right;\n",
       "    }\n",
       "</style>\n",
       "<table border=\"1\" class=\"dataframe\">\n",
       "  <thead>\n",
       "    <tr style=\"text-align: right;\">\n",
       "      <th></th>\n",
       "      <th>0.0</th>\n",
       "      <th>0.05</th>\n",
       "      <th>0.1</th>\n",
       "      <th>0.2</th>\n",
       "      <th>0.3</th>\n",
       "      <th>0.4</th>\n",
       "      <th>0.5</th>\n",
       "      <th>0.6</th>\n",
       "      <th>0.7</th>\n",
       "      <th>0.8</th>\n",
       "      <th>0.9</th>\n",
       "      <th>0.95</th>\n",
       "      <th>1.0</th>\n",
       "    </tr>\n",
       "  </thead>\n",
       "  <tbody>\n",
       "    <tr>\n",
       "      <th>TaxiID</th>\n",
       "      <td>1.0</td>\n",
       "      <td>74.55</td>\n",
       "      <td>354.1</td>\n",
       "      <td>614.2</td>\n",
       "      <td>804.3</td>\n",
       "      <td>959.0</td>\n",
       "      <td>1263.5</td>\n",
       "      <td>1514.6</td>\n",
       "      <td>1617.0</td>\n",
       "      <td>1669.0</td>\n",
       "      <td>1866.9</td>\n",
       "      <td>2938.45</td>\n",
       "      <td>148069.0</td>\n",
       "    </tr>\n",
       "  </tbody>\n",
       "</table>\n",
       "</div>"
      ],
      "text/plain": [
       "        0.00   0.05   0.10   0.20   0.30   0.40    0.50    0.60    0.70  \\\n",
       "TaxiID   1.0  74.55  354.1  614.2  804.3  959.0  1263.5  1514.6  1617.0   \n",
       "\n",
       "          0.80    0.90     0.95      1.00  \n",
       "TaxiID  1669.0  1866.9  2938.45  148069.0  "
      ]
     },
     "execution_count": 5,
     "metadata": {},
     "output_type": "execute_result"
    }
   ],
   "source": [
    "# Percentile Distribution of Data Points per Trajectory\n",
    "print(\"Data Points per Trajectory\")\n",
    "pd.DataFrame(df_tripMain.TaxiID.value_counts().quantile([0,0.05] + list(np.round(np.arange(0.1,1,0.1),2)) + [0.95,1.00])).T"
   ]
  },
  {
   "cell_type": "code",
   "execution_count": 6,
   "metadata": {},
   "outputs": [
    {
     "data": {
      "image/png": "[encoded data removed]",
      "text/plain": [
       "<matplotlib.figure.Figure at 0x2ae6338f6940>"
      ]
     },
     "metadata": {
      "needs_background": "light"
     },
     "output_type": "display_data"
    }
   ],
   "source": [
    "# Log distribution of Data Points per trajectory \n",
    "ax = plt.subplot()\n",
    "ax.hist(np.log2(df_tripMain.TaxiID.value_counts()), bins =30)\n",
    "ax.xaxis.set_major_formatter(formatter)\n",
    "plt.xticks(rotation=45)\n",
    "plt.xlabel(\"Log(Data Points) per Trajectory\")\n",
    "plt.ylabel(\"Frequency\")\n",
    "plt.show()"
   ]
  },
  {
   "cell_type": "markdown",
   "metadata": {},
   "source": [
    "**Bimodal in Data Points per Trajectory**\n",
    "\n",
    "1. Few trajectories are centered around 8 datapoints/trajectory.\n",
    "2. Modt of the trajectories have around 1000 datapoints/traj."
   ]
  },
  {
   "cell_type": "markdown",
   "metadata": {},
   "source": [
    "### Part 1.1 : Time Interval (Sec)"
   ]
  },
  {
   "cell_type": "markdown",
   "metadata": {},
   "source": [
    "Here we check the distribution of time interval between 2 consecutive data points corresponding to same trajectory in our dataset."
   ]
  },
  {
   "cell_type": "code",
   "execution_count": 7,
   "metadata": {},
   "outputs": [
    {
     "name": "stdout",
     "output_type": "stream",
     "text": [
      "Time in Seconds\n"
     ]
    },
    {
     "data": {
      "text/html": [
       "<div>\n",
       "<style scoped>\n",
       "    .dataframe tbody tr th:only-of-type {\n",
       "        vertical-align: middle;\n",
       "    }\n",
       "\n",
       "    .dataframe tbody tr th {\n",
       "        vertical-align: top;\n",
       "    }\n",
       "\n",
       "    .dataframe thead th {\n",
       "        text-align: right;\n",
       "    }\n",
       "</style>\n",
       "<table border=\"1\" class=\"dataframe\">\n",
       "  <thead>\n",
       "    <tr style=\"text-align: right;\">\n",
       "      <th></th>\n",
       "      <th>0.0</th>\n",
       "      <th>0.05</th>\n",
       "      <th>0.1</th>\n",
       "      <th>0.2</th>\n",
       "      <th>0.3</th>\n",
       "      <th>0.4</th>\n",
       "      <th>0.5</th>\n",
       "      <th>0.6</th>\n",
       "      <th>0.7</th>\n",
       "      <th>0.8</th>\n",
       "      <th>0.9</th>\n",
       "      <th>0.95</th>\n",
       "      <th>1.0</th>\n",
       "    </tr>\n",
       "  </thead>\n",
       "  <tbody>\n",
       "    <tr>\n",
       "      <th>TimeDiff</th>\n",
       "      <td>0.0</td>\n",
       "      <td>3.0</td>\n",
       "      <td>5.0</td>\n",
       "      <td>7.0</td>\n",
       "      <td>39.0</td>\n",
       "      <td>106.0</td>\n",
       "      <td>210.0</td>\n",
       "      <td>300.0</td>\n",
       "      <td>300.0</td>\n",
       "      <td>300.0</td>\n",
       "      <td>302.0</td>\n",
       "      <td>600.0</td>\n",
       "      <td>516034.0</td>\n",
       "    </tr>\n",
       "  </tbody>\n",
       "</table>\n",
       "</div>"
      ],
      "text/plain": [
       "          0.00  0.05  0.10  0.20  0.30   0.40   0.50   0.60   0.70   0.80  \\\n",
       "TimeDiff   0.0   3.0   5.0   7.0  39.0  106.0  210.0  300.0  300.0  300.0   \n",
       "\n",
       "           0.90   0.95      1.00  \n",
       "TimeDiff  302.0  600.0  516034.0  "
      ]
     },
     "execution_count": 7,
     "metadata": {},
     "output_type": "execute_result"
    }
   ],
   "source": [
    "# Percentile Distribution of Time Interval\n",
    "print(\"Time in Seconds\")\n",
    "pd.DataFrame(df_tripMain.TimeDiff.quantile([0,0.05] + list(np.round(np.arange(0.1,1,0.1),2)) + [0.95,1.00])).T"
   ]
  },
  {
   "cell_type": "markdown",
   "metadata": {},
   "source": [
    "**95 % Data points have time difference less than 600 Seconds or 10 minutes**\n",
    "\n",
    "1. 20% data has less than 10seconds difference.\n",
    "2. Almost 40% data have time difference of exactly 5 minutes."
   ]
  },
  {
   "cell_type": "code",
   "execution_count": 8,
   "metadata": {},
   "outputs": [
    {
     "data": {
      "image/png": "[encoded data removed]",
      "text/plain": [
       "<matplotlib.figure.Figure at 0x2ae6338f6da0>"
      ]
     },
     "metadata": {
      "needs_background": "light"
     },
     "output_type": "display_data"
    }
   ],
   "source": [
    "# Histogram Distribution of Log(TimeInterval)\n",
    "ax = plt.subplot()\n",
    "ax.hist(np.log2(df_tripMain.TimeDiff+ 0.01), bins =30)\n",
    "ax.xaxis.set_major_formatter(formatter)\n",
    "plt.xticks(rotation=45)\n",
    "plt.xlabel(\"Log(time interval)\")\n",
    "plt.ylabel(\"Frequency\")\n",
    "plt.show()"
   ]
  },
  {
   "cell_type": "markdown",
   "metadata": {},
   "source": [
    "### Part 1.2: Distance (Kms)"
   ]
  },
  {
   "cell_type": "markdown",
   "metadata": {},
   "source": [
    "Here we check the distribution of Distance(kms) between 2 consecutive data points corresponding to the same trajectory in our dataset."
   ]
  },
  {
   "cell_type": "code",
   "execution_count": 9,
   "metadata": {},
   "outputs": [
    {
     "name": "stdout",
     "output_type": "stream",
     "text": [
      "Distance in Kms\n"
     ]
    },
    {
     "data": {
      "text/html": [
       "<div>\n",
       "<style scoped>\n",
       "    .dataframe tbody tr th:only-of-type {\n",
       "        vertical-align: middle;\n",
       "    }\n",
       "\n",
       "    .dataframe tbody tr th {\n",
       "        vertical-align: top;\n",
       "    }\n",
       "\n",
       "    .dataframe thead th {\n",
       "        text-align: right;\n",
       "    }\n",
       "</style>\n",
       "<table border=\"1\" class=\"dataframe\">\n",
       "  <thead>\n",
       "    <tr style=\"text-align: right;\">\n",
       "      <th></th>\n",
       "      <th>0.0</th>\n",
       "      <th>0.05</th>\n",
       "      <th>0.1</th>\n",
       "      <th>0.2</th>\n",
       "      <th>0.3</th>\n",
       "      <th>0.4</th>\n",
       "      <th>0.5</th>\n",
       "      <th>0.6</th>\n",
       "      <th>0.7</th>\n",
       "      <th>0.8</th>\n",
       "      <th>0.9</th>\n",
       "      <th>0.95</th>\n",
       "      <th>1.0</th>\n",
       "    </tr>\n",
       "  </thead>\n",
       "  <tbody>\n",
       "    <tr>\n",
       "      <th>Dist</th>\n",
       "      <td>0.0</td>\n",
       "      <td>0.0</td>\n",
       "      <td>0.0</td>\n",
       "      <td>0.00111</td>\n",
       "      <td>0.004523</td>\n",
       "      <td>0.014533</td>\n",
       "      <td>0.047644</td>\n",
       "      <td>0.200422</td>\n",
       "      <td>0.564407</td>\n",
       "      <td>1.107751</td>\n",
       "      <td>2.055924</td>\n",
       "      <td>3.1983</td>\n",
       "      <td>895.930445</td>\n",
       "    </tr>\n",
       "  </tbody>\n",
       "</table>\n",
       "</div>"
      ],
      "text/plain": [
       "      0.00  0.05  0.10     0.20      0.30      0.40      0.50      0.60  \\\n",
       "Dist   0.0   0.0   0.0  0.00111  0.004523  0.014533  0.047644  0.200422   \n",
       "\n",
       "          0.70      0.80      0.90    0.95        1.00  \n",
       "Dist  0.564407  1.107751  2.055924  3.1983  895.930445  "
      ]
     },
     "execution_count": 9,
     "metadata": {},
     "output_type": "execute_result"
    }
   ],
   "source": [
    "# Percentile Distribution of Distance\n",
    "print(\"Distance in Kms\")\n",
    "pd.DataFrame(df_tripMain.Dist.quantile([0,0.05] + list(np.round(np.arange(0.1,1,0.1),2)) + [0.95,1.00])).T"
   ]
  },
  {
   "cell_type": "markdown",
   "metadata": {},
   "source": [
    "**Uniform Distribution in Distance between Consecutive points**\n",
    "1. 20% data points have 0 or insignificant distance distribution between them.\n",
    "2. 80% data points have distance difference of less than 1 km between them(major peak)."
   ]
  },
  {
   "cell_type": "code",
   "execution_count": 10,
   "metadata": {},
   "outputs": [
    {
     "data": {
      "image/png": "[encoded data removed]",
      "text/plain": [
       "<matplotlib.figure.Figure at 0x2ae5ff3a37f0>"
      ]
     },
     "metadata": {
      "needs_background": "light"
     },
     "output_type": "display_data"
    }
   ],
   "source": [
    "# Histogram Distribution of Log(Distance)\n",
    "ax = plt.subplot()\n",
    "ax.hist(np.log2(df_tripMain.Dist+ 0.00001), bins =30)\n",
    "ax.xaxis.set_major_formatter(formatter)\n",
    "plt.xticks(rotation=45)\n",
    "plt.xlabel(\"Log(Distance)\")\n",
    "plt.ylabel(\"Frequency\")\n",
    "plt.show()"
   ]
  },
  {
   "cell_type": "markdown",
   "metadata": {},
   "source": [
    "### Part 1.3: Speed (Km/Hr)"
   ]
  },
  {
   "cell_type": "markdown",
   "metadata": {},
   "source": [
    "Here we check the distribution of Speed(km/hr) between 2 consecutive data points corresponding to the same trajectory in our dataset."
   ]
  },
  {
   "cell_type": "code",
   "execution_count": 11,
   "metadata": {},
   "outputs": [
    {
     "name": "stdout",
     "output_type": "stream",
     "text": [
      "Speed in Km/Hr\n"
     ]
    },
    {
     "data": {
      "text/html": [
       "<div>\n",
       "<style scoped>\n",
       "    .dataframe tbody tr th:only-of-type {\n",
       "        vertical-align: middle;\n",
       "    }\n",
       "\n",
       "    .dataframe tbody tr th {\n",
       "        vertical-align: top;\n",
       "    }\n",
       "\n",
       "    .dataframe thead th {\n",
       "        text-align: right;\n",
       "    }\n",
       "</style>\n",
       "<table border=\"1\" class=\"dataframe\">\n",
       "  <thead>\n",
       "    <tr style=\"text-align: right;\">\n",
       "      <th></th>\n",
       "      <th>0.0</th>\n",
       "      <th>0.05</th>\n",
       "      <th>0.1</th>\n",
       "      <th>0.2</th>\n",
       "      <th>0.3</th>\n",
       "      <th>0.4</th>\n",
       "      <th>0.5</th>\n",
       "      <th>0.6</th>\n",
       "      <th>0.7</th>\n",
       "      <th>0.8</th>\n",
       "      <th>0.9</th>\n",
       "      <th>0.95</th>\n",
       "      <th>1.0</th>\n",
       "    </tr>\n",
       "  </thead>\n",
       "  <tbody>\n",
       "    <tr>\n",
       "      <th>Speed</th>\n",
       "      <td>0.0</td>\n",
       "      <td>0.0</td>\n",
       "      <td>0.0</td>\n",
       "      <td>0.016808</td>\n",
       "      <td>0.126763</td>\n",
       "      <td>1.184032</td>\n",
       "      <td>7.340682</td>\n",
       "      <td>13.363221</td>\n",
       "      <td>19.314345</td>\n",
       "      <td>26.861227</td>\n",
       "      <td>39.97198</td>\n",
       "      <td>53.082129</td>\n",
       "      <td>2.451989e+06</td>\n",
       "    </tr>\n",
       "  </tbody>\n",
       "</table>\n",
       "</div>"
      ],
      "text/plain": [
       "       0.00  0.05  0.10      0.20      0.30      0.40      0.50       0.60  \\\n",
       "Speed   0.0   0.0   0.0  0.016808  0.126763  1.184032  7.340682  13.363221   \n",
       "\n",
       "            0.70       0.80      0.90       0.95          1.00  \n",
       "Speed  19.314345  26.861227  39.97198  53.082129  2.451989e+06  "
      ]
     },
     "execution_count": 11,
     "metadata": {},
     "output_type": "execute_result"
    }
   ],
   "source": [
    "# Percentile Distribution of Distance\n",
    "print(\"Speed in Km/Hr\")\n",
    "pd.DataFrame(df_tripMain.Speed.quantile([0,0.05] + list(np.round(np.arange(0.1,1,0.1),2)) + [0.95,1.00])).T"
   ]
  },
  {
   "cell_type": "markdown",
   "metadata": {},
   "source": [
    "**30% Data points have speed lower than 0.12km/hrs**"
   ]
  },
  {
   "cell_type": "code",
   "execution_count": 12,
   "metadata": {},
   "outputs": [
    {
     "data": {
      "image/png": "[encoded data removed]",
      "text/plain": [
       "<matplotlib.figure.Figure at 0x2ae5aff9f5f8>"
      ]
     },
     "metadata": {
      "needs_background": "light"
     },
     "output_type": "display_data"
    }
   ],
   "source": [
    "# Histogram Distribution of Log(Distance)\n",
    "ax = plt.subplot()\n",
    "ax.hist(np.log2(df_tripMain.Speed+0.00001), bins =30)\n",
    "ax.xaxis.set_major_formatter(formatter)\n",
    "plt.xticks(rotation=45)\n",
    "plt.xlabel(\"Log(Speed)\")\n",
    "plt.ylabel(\"Frequency\")\n",
    "plt.show()"
   ]
  },
  {
   "cell_type": "markdown",
   "metadata": {},
   "source": [
    "**Similar to distance, a major peak at 20km/hr(Average Speed in City Driving conditions)**"
   ]
  },
  {
   "cell_type": "markdown",
   "metadata": {},
   "source": [
    "## Part2:  Create Trip"
   ]
  },
  {
   "cell_type": "code",
   "execution_count": 13,
   "metadata": {},
   "outputs": [
    {
     "name": "stderr",
     "output_type": "stream",
     "text": [
      "/home/skp454/bigdata/bdpy/lib/python3.6/site-packages/pandas/core/computation/expressions.py:183: UserWarning: evaluating in Python space because the '+' operator is not supported by numexpr for the bool dtype, use '|' instead\n",
      "  .format(op=op_str, alt_op=unsupported[op_str]))\n",
      "/home/skp454/bigdata/bdpy/lib/python3.6/site-packages/ipykernel_launcher.py:42: SettingWithCopyWarning: \n",
      "A value is trying to be set on a copy of a slice from a DataFrame.\n",
      "Try using .loc[row_indexer,col_indexer] = value instead\n",
      "\n",
      "See the caveats in the documentation: http://pandas.pydata.org/pandas-docs/stable/indexing.html#indexing-view-versus-copy\n"
     ]
    }
   ],
   "source": [
    "# define stationary points (speed<1km/hr)\n",
    "df_tripMain['Stationary'] = df_tripMain['Speed']<1\n",
    "df_tripMain['Stationary'] = df_tripMain['Stationary'].astype(int)\n",
    "\n",
    "# stationary time\n",
    "df_tripMain['StaTime'] = df_tripMain['TimeDiff'] * df_tripMain['Stationary']\n",
    "\n",
    "# cumulative stationary time\n",
    "df_tripMain['StaTime'] = df_tripMain['StaTime'].cumsum()\n",
    "\n",
    "# non-stationary points\n",
    "df_tripMain['InvStat'] = ((df_tripMain['Stationary'] == 0) + (df_tripMain['IdDiff'] == 0)).astype(int)\n",
    "\n",
    "# Id to non stationary points\n",
    "df_tripMain['InvID'] = df_tripMain['InvStat'].cumsum()\n",
    "\n",
    "# array to store cumulative stationary time of non stationary points\n",
    "arr =np.array(df_tripMain[df_tripMain['InvStat']==1]['StaTime'])\n",
    "\n",
    "# find the cumulative stationary time at last non-stationary point\n",
    "df_tripMain['nT'] = df_tripMain['InvID'].apply(lambda row: arr[row-1])\n",
    "\n",
    "# subtract the cumulative stationary time of last non-stationary point from the current point\n",
    "df_tripMain['StaTime'] = df_tripMain['StaTime'] - df_tripMain['nT']\n",
    "\n",
    "## Calculate the distribution of max stationarity period\n",
    "df_tripMain['InvStat'] = list(df_tripMain['InvStat'][1:]) + [0]\n",
    "arr =np.array(df_tripMain[df_tripMain['InvStat']==1]['StaTime'])\n",
    "arr = arr[arr>0]\n",
    "\n",
    "# modify sttaionary flag; if stationary time > 5minutes\n",
    "df_tripMain['Stationary'] = ((df_tripMain['StaTime'] > 300 ) + (df_tripMain['IdDiff'] == 0)).astype(int)\n",
    "\n",
    "# drop temp columns\n",
    "df_tripMain.drop(['trip_id', 'StaTime', 'InvStat', 'InvID', 'nT'], inplace= True, axis=1)\n",
    "\n",
    "# create trip id\n",
    "df_tripMain['trip_id'] = df_tripMain['Stationary'].cumsum()\n",
    "\n",
    "# remove staionarity markers\n",
    "df_main = df_tripMain[df_tripMain['Stationary'] == False]\n",
    "df_main['Count'] = 1\n",
    "\n",
    "# create trip stats\n",
    "df_trip = pd.DataFrame(df_main.groupby(['trip_id','TaxiID'], as_index=False)['Dist','TimeDiff','Count'].sum())\n",
    "\n",
    "# create trip speed\n",
    "df_trip['Speed'] = df_trip['Dist']*3600/df_trip['TimeDiff']\n",
    "df_trip['Speed'].fillna(0, inplace= True)\n",
    "\n",
    "# delete df_main\n",
    "del df_main"
   ]
  },
  {
   "cell_type": "markdown",
   "metadata": {},
   "source": [
    "## Stationarity Time Distribution"
   ]
  },
  {
   "cell_type": "code",
   "execution_count": 15,
   "metadata": {},
   "outputs": [
    {
     "data": {
      "text/html": [
       "<div>\n",
       "<style scoped>\n",
       "    .dataframe tbody tr th:only-of-type {\n",
       "        vertical-align: middle;\n",
       "    }\n",
       "\n",
       "    .dataframe tbody tr th {\n",
       "        vertical-align: top;\n",
       "    }\n",
       "\n",
       "    .dataframe thead th {\n",
       "        text-align: right;\n",
       "    }\n",
       "</style>\n",
       "<table border=\"1\" class=\"dataframe\">\n",
       "  <thead>\n",
       "    <tr style=\"text-align: right;\">\n",
       "      <th></th>\n",
       "      <th>0.0</th>\n",
       "      <th>0.05</th>\n",
       "      <th>0.1</th>\n",
       "      <th>0.2</th>\n",
       "      <th>0.3</th>\n",
       "      <th>0.4</th>\n",
       "      <th>0.5</th>\n",
       "      <th>0.6</th>\n",
       "      <th>0.7</th>\n",
       "      <th>0.8</th>\n",
       "      <th>0.9</th>\n",
       "      <th>0.95</th>\n",
       "      <th>1.0</th>\n",
       "    </tr>\n",
       "  </thead>\n",
       "  <tbody>\n",
       "    <tr>\n",
       "      <th>0</th>\n",
       "      <td>1.0</td>\n",
       "      <td>5.0</td>\n",
       "      <td>10.0</td>\n",
       "      <td>25.0</td>\n",
       "      <td>51.0</td>\n",
       "      <td>118.0</td>\n",
       "      <td>300.0</td>\n",
       "      <td>401.0</td>\n",
       "      <td>900.0</td>\n",
       "      <td>2109.0</td>\n",
       "      <td>8998.0</td>\n",
       "      <td>27219.0</td>\n",
       "      <td>532528.0</td>\n",
       "    </tr>\n",
       "  </tbody>\n",
       "</table>\n",
       "</div>"
      ],
      "text/plain": [
       "   0.00  0.05  0.10  0.20  0.30   0.40   0.50   0.60   0.70    0.80    0.90  \\\n",
       "0   1.0   5.0  10.0  25.0  51.0  118.0  300.0  401.0  900.0  2109.0  8998.0   \n",
       "\n",
       "      0.95      1.00  \n",
       "0  27219.0  532528.0  "
      ]
     },
     "execution_count": 15,
     "metadata": {},
     "output_type": "execute_result"
    }
   ],
   "source": [
    "pd.DataFrame(pd.Series(arr).quantile([0,0.05] + list(np.round(np.arange(0.1,1,0.1),2)) + [0.95,1.00])).T"
   ]
  },
  {
   "cell_type": "code",
   "execution_count": 19,
   "metadata": {},
   "outputs": [
    {
     "data": {
      "image/png": "[encoded data removed]",
      "text/plain": [
       "<matplotlib.figure.Figure at 0x2ae655d5dbe0>"
      ]
     },
     "metadata": {
      "needs_background": "light"
     },
     "output_type": "display_data"
    }
   ],
   "source": [
    "ax = plt.subplot()\n",
    "ax.hist(np.log2(arr[arr<3600]), bins =30)\n",
    "ax.xaxis.set_major_formatter(formatter)\n",
    "plt.xticks(rotation=45)\n",
    "plt.xlabel(\"Stationarity Period(Seconds)\")\n",
    "plt.ylabel(\"Frequency\")\n",
    "plt.show()"
   ]
  },
  {
   "cell_type": "code",
   "execution_count": 15,
   "metadata": {},
   "outputs": [],
   "source": [
    "# save trip main record\n",
    "outfile = open('/scratch/skp454/Trajectory/TaxiDataSet/data/20190709_TaxiTripMainData.pkl','wb')\n",
    "pickle.dump(df_tripMain,outfile)\n",
    "outfile.close()\n",
    "del outfile"
   ]
  },
  {
   "cell_type": "markdown",
   "metadata": {},
   "source": [
    "### Part 2.0: Cleaning trips on records per trip"
   ]
  },
  {
   "cell_type": "code",
   "execution_count": 16,
   "metadata": {},
   "outputs": [
    {
     "name": "stdout",
     "output_type": "stream",
     "text": [
      "Total Number of Trips: 360553\n"
     ]
    }
   ],
   "source": [
    "# Number of trajectories and data points\n",
    "print('Total Number of Trips:', len(df_trip.trip_id.unique()))"
   ]
  },
  {
   "cell_type": "code",
   "execution_count": 17,
   "metadata": {},
   "outputs": [
    {
     "name": "stdout",
     "output_type": "stream",
     "text": [
      "Data Points per Trip\n"
     ]
    },
    {
     "data": {
      "text/html": [
       "<div>\n",
       "<style scoped>\n",
       "    .dataframe tbody tr th:only-of-type {\n",
       "        vertical-align: middle;\n",
       "    }\n",
       "\n",
       "    .dataframe tbody tr th {\n",
       "        vertical-align: top;\n",
       "    }\n",
       "\n",
       "    .dataframe thead th {\n",
       "        text-align: right;\n",
       "    }\n",
       "</style>\n",
       "<table border=\"1\" class=\"dataframe\">\n",
       "  <thead>\n",
       "    <tr style=\"text-align: right;\">\n",
       "      <th></th>\n",
       "      <th>0.0</th>\n",
       "      <th>0.05</th>\n",
       "      <th>0.1</th>\n",
       "      <th>0.2</th>\n",
       "      <th>0.3</th>\n",
       "      <th>0.4</th>\n",
       "      <th>0.5</th>\n",
       "      <th>0.6</th>\n",
       "      <th>0.7</th>\n",
       "      <th>0.8</th>\n",
       "      <th>0.9</th>\n",
       "      <th>0.95</th>\n",
       "      <th>1.0</th>\n",
       "    </tr>\n",
       "  </thead>\n",
       "  <tbody>\n",
       "    <tr>\n",
       "      <th>Count</th>\n",
       "      <td>1.0</td>\n",
       "      <td>1.0</td>\n",
       "      <td>2.0</td>\n",
       "      <td>3.0</td>\n",
       "      <td>4.0</td>\n",
       "      <td>6.0</td>\n",
       "      <td>9.0</td>\n",
       "      <td>15.0</td>\n",
       "      <td>23.0</td>\n",
       "      <td>38.0</td>\n",
       "      <td>66.0</td>\n",
       "      <td>104.0</td>\n",
       "      <td>49778.0</td>\n",
       "    </tr>\n",
       "  </tbody>\n",
       "</table>\n",
       "</div>"
      ],
      "text/plain": [
       "       0.00  0.05  0.10  0.20  0.30  0.40  0.50  0.60  0.70  0.80  0.90  \\\n",
       "Count   1.0   1.0   2.0   3.0   4.0   6.0   9.0  15.0  23.0  38.0  66.0   \n",
       "\n",
       "        0.95     1.00  \n",
       "Count  104.0  49778.0  "
      ]
     },
     "execution_count": 17,
     "metadata": {},
     "output_type": "execute_result"
    }
   ],
   "source": [
    "# Percentile Distribution of length of sequence per trip\n",
    "print(\"Data Points per Trip\")\n",
    "pd.DataFrame(df_trip.Count.quantile([0,0.05] + list(np.round(np.arange(0.1,1,0.1),2)) + [0.95,1.00])).T"
   ]
  },
  {
   "cell_type": "markdown",
   "metadata": {},
   "source": [
    "**Presence of large number of Erroneous Trips**\n",
    "\n",
    "**5% of trips have only 1 data points; we will remove them**"
   ]
  },
  {
   "cell_type": "code",
   "execution_count": 18,
   "metadata": {},
   "outputs": [
    {
     "name": "stdout",
     "output_type": "stream",
     "text": [
      "Total Number of Trips: 338016\n"
     ]
    }
   ],
   "source": [
    "# update the trips (count>1)\n",
    "df_trip = df_trip[df_trip['Count']>1]\n",
    "\n",
    "# Number of trips\n",
    "print('Total Number of Trips:', len(df_trip.trip_id.unique()))"
   ]
  },
  {
   "cell_type": "markdown",
   "metadata": {},
   "source": [
    "**We lost 22k trips here**"
   ]
  },
  {
   "cell_type": "markdown",
   "metadata": {},
   "source": [
    "### Part 2.1: Cleaning trips on Distance"
   ]
  },
  {
   "cell_type": "code",
   "execution_count": 19,
   "metadata": {},
   "outputs": [
    {
     "name": "stdout",
     "output_type": "stream",
     "text": [
      "Distance in Kms\n"
     ]
    },
    {
     "data": {
      "text/html": [
       "<div>\n",
       "<style scoped>\n",
       "    .dataframe tbody tr th:only-of-type {\n",
       "        vertical-align: middle;\n",
       "    }\n",
       "\n",
       "    .dataframe tbody tr th {\n",
       "        vertical-align: top;\n",
       "    }\n",
       "\n",
       "    .dataframe thead th {\n",
       "        text-align: right;\n",
       "    }\n",
       "</style>\n",
       "<table border=\"1\" class=\"dataframe\">\n",
       "  <thead>\n",
       "    <tr style=\"text-align: right;\">\n",
       "      <th></th>\n",
       "      <th>0.0</th>\n",
       "      <th>0.05</th>\n",
       "      <th>0.1</th>\n",
       "      <th>0.2</th>\n",
       "      <th>0.3</th>\n",
       "      <th>0.4</th>\n",
       "      <th>0.5</th>\n",
       "      <th>0.6</th>\n",
       "      <th>0.7</th>\n",
       "      <th>0.8</th>\n",
       "      <th>0.9</th>\n",
       "      <th>0.95</th>\n",
       "      <th>1.0</th>\n",
       "    </tr>\n",
       "  </thead>\n",
       "  <tbody>\n",
       "    <tr>\n",
       "      <th>Dist</th>\n",
       "      <td>0.0</td>\n",
       "      <td>0.134035</td>\n",
       "      <td>0.315841</td>\n",
       "      <td>1.775496</td>\n",
       "      <td>4.525937</td>\n",
       "      <td>8.998796</td>\n",
       "      <td>15.715876</td>\n",
       "      <td>25.433728</td>\n",
       "      <td>39.077395</td>\n",
       "      <td>59.357323</td>\n",
       "      <td>94.420869</td>\n",
       "      <td>132.309971</td>\n",
       "      <td>18606.912008</td>\n",
       "    </tr>\n",
       "  </tbody>\n",
       "</table>\n",
       "</div>"
      ],
      "text/plain": [
       "      0.00      0.05      0.10      0.20      0.30      0.40       0.50  \\\n",
       "Dist   0.0  0.134035  0.315841  1.775496  4.525937  8.998796  15.715876   \n",
       "\n",
       "           0.60       0.70       0.80       0.90        0.95          1.00  \n",
       "Dist  25.433728  39.077395  59.357323  94.420869  132.309971  18606.912008  "
      ]
     },
     "execution_count": 19,
     "metadata": {},
     "output_type": "execute_result"
    }
   ],
   "source": [
    "# Percentile Distribution of Distance\n",
    "print(\"Distance in Kms\")\n",
    "pd.DataFrame(df_trip.Dist.quantile([0,0.05] + list(np.round(np.arange(0.1,0.91,0.1),2)) + [0.95,1.00])).T"
   ]
  },
  {
   "cell_type": "markdown",
   "metadata": {},
   "source": [
    "**15% Trips have travelled distance less than 1km**\n",
    "\n",
    "**We remove trips with distance travelled < 1km**"
   ]
  },
  {
   "cell_type": "code",
   "execution_count": 20,
   "metadata": {},
   "outputs": [
    {
     "name": "stdout",
     "output_type": "stream",
     "text": [
      "Total Number of Trips: 283657\n"
     ]
    }
   ],
   "source": [
    "# update the trips (dist>10)\n",
    "df_trip = df_trip[df_trip['Dist']>1]\n",
    "\n",
    "# Number of trips\n",
    "print('Total Number of Trips:', len(df_trip.trip_id.unique()))"
   ]
  },
  {
   "cell_type": "markdown",
   "metadata": {},
   "source": [
    "**We loose 54k trips here**"
   ]
  },
  {
   "cell_type": "code",
   "execution_count": 21,
   "metadata": {},
   "outputs": [
    {
     "name": "stdout",
     "output_type": "stream",
     "text": [
      "Speed in Km/Hr\n"
     ]
    },
    {
     "data": {
      "text/html": [
       "<div>\n",
       "<style scoped>\n",
       "    .dataframe tbody tr th:only-of-type {\n",
       "        vertical-align: middle;\n",
       "    }\n",
       "\n",
       "    .dataframe tbody tr th {\n",
       "        vertical-align: top;\n",
       "    }\n",
       "\n",
       "    .dataframe thead th {\n",
       "        text-align: right;\n",
       "    }\n",
       "</style>\n",
       "<table border=\"1\" class=\"dataframe\">\n",
       "  <thead>\n",
       "    <tr style=\"text-align: right;\">\n",
       "      <th></th>\n",
       "      <th>0.97</th>\n",
       "      <th>0.973</th>\n",
       "      <th>0.976</th>\n",
       "      <th>0.979</th>\n",
       "      <th>0.982</th>\n",
       "      <th>0.985</th>\n",
       "      <th>0.988</th>\n",
       "      <th>0.991</th>\n",
       "      <th>0.994</th>\n",
       "      <th>0.997</th>\n",
       "      <th>1.0</th>\n",
       "    </tr>\n",
       "  </thead>\n",
       "  <tbody>\n",
       "    <tr>\n",
       "      <th>Speed</th>\n",
       "      <td>78.713021</td>\n",
       "      <td>92.866513</td>\n",
       "      <td>110.677027</td>\n",
       "      <td>133.155182</td>\n",
       "      <td>163.797831</td>\n",
       "      <td>205.750136</td>\n",
       "      <td>258.408476</td>\n",
       "      <td>332.889062</td>\n",
       "      <td>462.754</td>\n",
       "      <td>743.484477</td>\n",
       "      <td>269464.025335</td>\n",
       "    </tr>\n",
       "  </tbody>\n",
       "</table>\n",
       "</div>"
      ],
      "text/plain": [
       "           0.970      0.973       0.976       0.979       0.982       0.985  \\\n",
       "Speed  78.713021  92.866513  110.677027  133.155182  163.797831  205.750136   \n",
       "\n",
       "            0.988       0.991    0.994       0.997          1.000  \n",
       "Speed  258.408476  332.889062  462.754  743.484477  269464.025335  "
      ]
     },
     "execution_count": 21,
     "metadata": {},
     "output_type": "execute_result"
    }
   ],
   "source": [
    "# Percentile Distribution of Distance\n",
    "print(\"Speed in Km/Hr\")\n",
    "pd.DataFrame(df_trip.Speed.quantile(list(np.round(np.arange(0.97,1.00001,0.003),3)))).T"
   ]
  },
  {
   "cell_type": "markdown",
   "metadata": {},
   "source": [
    "**Speed beyond 150km/hr are unreasonable**\n",
    "\n",
    "**We remove trips with average speed beyond 150km/hr**"
   ]
  },
  {
   "cell_type": "code",
   "execution_count": 22,
   "metadata": {},
   "outputs": [
    {
     "name": "stdout",
     "output_type": "stream",
     "text": [
      "Total Number of Trips: 278215\n"
     ]
    }
   ],
   "source": [
    "# update the trips (speed>150)\n",
    "df_trip = df_trip[df_trip['Speed']<150]\n",
    "\n",
    "# Number of trips\n",
    "print('Total Number of Trips:', len(df_trip.trip_id.unique()))"
   ]
  },
  {
   "cell_type": "markdown",
   "metadata": {},
   "source": [
    "**We loose around 5k trips here**"
   ]
  },
  {
   "cell_type": "code",
   "execution_count": 23,
   "metadata": {},
   "outputs": [],
   "source": [
    "## Save Trips\n",
    "outfile = open('/scratch/skp454/Trajectory/TaxiDataSet/data/20190709_TaxiTripStatsData.pkl','wb')\n",
    "pickle.dump(df_trip,outfile)\n",
    "outfile.close()\n",
    "del outfile"
   ]
  },
  {
   "cell_type": "markdown",
   "metadata": {},
   "source": [
    "## Part 2: Analysis of Trip Data"
   ]
  },
  {
   "cell_type": "markdown",
   "metadata": {},
   "source": [
    "Based on the information obtained in Part 1.4, we split the trajectories into trips wherever the speed is lower than 0.03km/hr.\n",
    "The segmentation was done in a separate program and the resultant trips were saved.\n",
    "\n",
    "In this Part of the notebook, we will analyze the statistics of trips on Trip Sequence Length, Total Trip Distance, Total Trip Time Interval, Trip Average Speed, and Trip Overall Displacement."
   ]
  },
  {
   "cell_type": "markdown",
   "metadata": {},
   "source": [
    "### Part 2.0: Trip Sequence length"
   ]
  },
  {
   "cell_type": "markdown",
   "metadata": {},
   "source": [
    "The number of data points in each trip determines its sequence length."
   ]
  },
  {
   "cell_type": "code",
   "execution_count": 24,
   "metadata": {},
   "outputs": [
    {
     "name": "stdout",
     "output_type": "stream",
     "text": [
      "Total Number of Trips: 278215\n"
     ]
    }
   ],
   "source": [
    "# Number of trajectories and data points\n",
    "print('Total Number of Trips:', len(df_trip.trip_id.unique()))"
   ]
  },
  {
   "cell_type": "code",
   "execution_count": 25,
   "metadata": {},
   "outputs": [
    {
     "name": "stdout",
     "output_type": "stream",
     "text": [
      "Data Points per Trip\n"
     ]
    },
    {
     "data": {
      "text/html": [
       "<div>\n",
       "<style scoped>\n",
       "    .dataframe tbody tr th:only-of-type {\n",
       "        vertical-align: middle;\n",
       "    }\n",
       "\n",
       "    .dataframe tbody tr th {\n",
       "        vertical-align: top;\n",
       "    }\n",
       "\n",
       "    .dataframe thead th {\n",
       "        text-align: right;\n",
       "    }\n",
       "</style>\n",
       "<table border=\"1\" class=\"dataframe\">\n",
       "  <thead>\n",
       "    <tr style=\"text-align: right;\">\n",
       "      <th></th>\n",
       "      <th>0.0</th>\n",
       "      <th>0.05</th>\n",
       "      <th>0.1</th>\n",
       "      <th>0.2</th>\n",
       "      <th>0.3</th>\n",
       "      <th>0.4</th>\n",
       "      <th>0.5</th>\n",
       "      <th>0.6</th>\n",
       "      <th>0.7</th>\n",
       "      <th>0.8</th>\n",
       "      <th>0.9</th>\n",
       "      <th>0.95</th>\n",
       "      <th>1.0</th>\n",
       "    </tr>\n",
       "  </thead>\n",
       "  <tbody>\n",
       "    <tr>\n",
       "      <th>Count</th>\n",
       "      <td>2.0</td>\n",
       "      <td>3.0</td>\n",
       "      <td>3.0</td>\n",
       "      <td>5.0</td>\n",
       "      <td>7.0</td>\n",
       "      <td>10.0</td>\n",
       "      <td>15.0</td>\n",
       "      <td>21.0</td>\n",
       "      <td>31.0</td>\n",
       "      <td>46.0</td>\n",
       "      <td>76.0</td>\n",
       "      <td>116.0</td>\n",
       "      <td>17962.0</td>\n",
       "    </tr>\n",
       "  </tbody>\n",
       "</table>\n",
       "</div>"
      ],
      "text/plain": [
       "       0.00  0.05  0.10  0.20  0.30  0.40  0.50  0.60  0.70  0.80  0.90  \\\n",
       "Count   2.0   3.0   3.0   5.0   7.0  10.0  15.0  21.0  31.0  46.0  76.0   \n",
       "\n",
       "        0.95     1.00  \n",
       "Count  116.0  17962.0  "
      ]
     },
     "execution_count": 25,
     "metadata": {},
     "output_type": "execute_result"
    }
   ],
   "source": [
    "# Percentile Distribution of length of sequence per trip\n",
    "print(\"Data Points per Trip\")\n",
    "pd.DataFrame(df_trip.Count.quantile([0,0.05] + list(np.round(np.arange(0.1,1,0.1),2)) + [0.95,1.00])).T"
   ]
  },
  {
   "cell_type": "code",
   "execution_count": 27,
   "metadata": {},
   "outputs": [
    {
     "data": {
      "image/png": "[encoded data removed]",
      "text/plain": [
       "<matplotlib.figure.Figure at 0x2b5545417d68>"
      ]
     },
     "metadata": {
      "needs_background": "light"
     },
     "output_type": "display_data"
    }
   ],
   "source": [
    "# Log distribution of Data Points per trajectory \n",
    "\n",
    "ax = plt.subplot()\n",
    "ax.hist(np.log2(df_trip.Count), bins =30)\n",
    "ax.xaxis.set_major_formatter(formatter)\n",
    "plt.xticks(rotation=45)\n",
    "plt.xlabel(\"log(Data points) per Trip\")\n",
    "plt.ylabel(\"Frequency\")\n",
    "plt.show()"
   ]
  },
  {
   "cell_type": "markdown",
   "metadata": {},
   "source": [
    "### Part 2.1: Trip and Trajectories"
   ]
  },
  {
   "cell_type": "markdown",
   "metadata": {},
   "source": [
    "Originally we had 10k Vessels/Trajectories.\n",
    "1. In this section we will see total number of vessels left after removing trips of length less than 1 data point.\n",
    "2. Number of trips per trajectory."
   ]
  },
  {
   "cell_type": "code",
   "execution_count": 28,
   "metadata": {},
   "outputs": [
    {
     "name": "stdout",
     "output_type": "stream",
     "text": [
      "Total Number of Trajectories: 9981\n",
      "Total Number of Data Points: 10.522328 Millions\n"
     ]
    }
   ],
   "source": [
    "# Number of trajectories and data points\n",
    "print('Total Number of Trajectories:', len(df_trip.TaxiID.unique()))\n",
    "print('Total Number of Data Points:', sum(df_trip.Count)/1000000, \"Millions\")"
   ]
  },
  {
   "cell_type": "markdown",
   "metadata": {},
   "source": [
    "**We have lost approximately 100 taxi and about 6 Million original data points**"
   ]
  },
  {
   "cell_type": "code",
   "execution_count": 29,
   "metadata": {},
   "outputs": [
    {
     "name": "stdout",
     "output_type": "stream",
     "text": [
      "Trips per Trajectory\n"
     ]
    },
    {
     "data": {
      "text/html": [
       "<div>\n",
       "<style scoped>\n",
       "    .dataframe tbody tr th:only-of-type {\n",
       "        vertical-align: middle;\n",
       "    }\n",
       "\n",
       "    .dataframe tbody tr th {\n",
       "        vertical-align: top;\n",
       "    }\n",
       "\n",
       "    .dataframe thead th {\n",
       "        text-align: right;\n",
       "    }\n",
       "</style>\n",
       "<table border=\"1\" class=\"dataframe\">\n",
       "  <thead>\n",
       "    <tr style=\"text-align: right;\">\n",
       "      <th></th>\n",
       "      <th>0.0</th>\n",
       "      <th>0.05</th>\n",
       "      <th>0.1</th>\n",
       "      <th>0.2</th>\n",
       "      <th>0.3</th>\n",
       "      <th>0.4</th>\n",
       "      <th>0.5</th>\n",
       "      <th>0.6</th>\n",
       "      <th>0.7</th>\n",
       "      <th>0.8</th>\n",
       "      <th>0.9</th>\n",
       "      <th>0.95</th>\n",
       "      <th>1.0</th>\n",
       "    </tr>\n",
       "  </thead>\n",
       "  <tbody>\n",
       "    <tr>\n",
       "      <th>TaxiID</th>\n",
       "      <td>1.0</td>\n",
       "      <td>9.0</td>\n",
       "      <td>14.0</td>\n",
       "      <td>19.0</td>\n",
       "      <td>22.0</td>\n",
       "      <td>25.0</td>\n",
       "      <td>27.0</td>\n",
       "      <td>30.0</td>\n",
       "      <td>33.0</td>\n",
       "      <td>37.0</td>\n",
       "      <td>43.0</td>\n",
       "      <td>48.0</td>\n",
       "      <td>164.0</td>\n",
       "    </tr>\n",
       "  </tbody>\n",
       "</table>\n",
       "</div>"
      ],
      "text/plain": [
       "        0.00  0.05  0.10  0.20  0.30  0.40  0.50  0.60  0.70  0.80  0.90  \\\n",
       "TaxiID   1.0   9.0  14.0  19.0  22.0  25.0  27.0  30.0  33.0  37.0  43.0   \n",
       "\n",
       "        0.95   1.00  \n",
       "TaxiID  48.0  164.0  "
      ]
     },
     "execution_count": 29,
     "metadata": {},
     "output_type": "execute_result"
    }
   ],
   "source": [
    "# Percentile Distribution of Trips per Trajectory\n",
    "print(\"Trips per Trajectory\")\n",
    "pd.DataFrame(df_trip.TaxiID.value_counts().quantile([0,0.05] + list(np.round(np.arange(0.1,1,0.1),2)) + [0.95,1.00])).T"
   ]
  },
  {
   "cell_type": "markdown",
   "metadata": {},
   "source": [
    "**The median number of trip we have got per taxi is about 27**"
   ]
  },
  {
   "cell_type": "code",
   "execution_count": 30,
   "metadata": {},
   "outputs": [
    {
     "data": {
      "image/png": "[encoded data removed]",
      "text/plain": [
       "<matplotlib.figure.Figure at 0x2b554536e6a0>"
      ]
     },
     "metadata": {
      "needs_background": "light"
     },
     "output_type": "display_data"
    }
   ],
   "source": [
    "# Log distribution of Data Points per trajectory \n",
    "ax = plt.subplot()\n",
    "ax.hist(np.log2(df_trip.TaxiID.value_counts()), bins =20)\n",
    "ax.xaxis.set_major_formatter(formatter)\n",
    "plt.vlines(np.log2(np.mean(df_trip.TaxiID.value_counts())),0,1000, label = 'Mean', color='red')\n",
    "plt.vlines(np.log2(np.median(df_trip.TaxiID.value_counts())),0,1000, label = 'Median', color='green')\n",
    "plt.ylim(0,1000)\n",
    "plt.xticks(rotation=45)\n",
    "plt.xlabel(\"Trips per Trajectory\")\n",
    "plt.ylabel(\"Frequency\")\n",
    "plt.legend()\n",
    "plt.show()"
   ]
  },
  {
   "cell_type": "markdown",
   "metadata": {},
   "source": [
    "### Part2.2: Trip Time Intervals(Sec)"
   ]
  },
  {
   "cell_type": "code",
   "execution_count": 33,
   "metadata": {},
   "outputs": [
    {
     "name": "stdout",
     "output_type": "stream",
     "text": [
      "Time in Minutes\n"
     ]
    },
    {
     "data": {
      "text/html": [
       "<div>\n",
       "<style scoped>\n",
       "    .dataframe tbody tr th:only-of-type {\n",
       "        vertical-align: middle;\n",
       "    }\n",
       "\n",
       "    .dataframe tbody tr th {\n",
       "        vertical-align: top;\n",
       "    }\n",
       "\n",
       "    .dataframe thead th {\n",
       "        text-align: right;\n",
       "    }\n",
       "</style>\n",
       "<table border=\"1\" class=\"dataframe\">\n",
       "  <thead>\n",
       "    <tr style=\"text-align: right;\">\n",
       "      <th></th>\n",
       "      <th>0.0</th>\n",
       "      <th>0.05</th>\n",
       "      <th>0.1</th>\n",
       "      <th>0.2</th>\n",
       "      <th>0.3</th>\n",
       "      <th>0.4</th>\n",
       "      <th>0.5</th>\n",
       "      <th>0.6</th>\n",
       "      <th>0.7</th>\n",
       "      <th>0.8</th>\n",
       "      <th>0.9</th>\n",
       "      <th>0.95</th>\n",
       "      <th>1.0</th>\n",
       "    </tr>\n",
       "  </thead>\n",
       "  <tbody>\n",
       "    <tr>\n",
       "      <th>TimeDiff</th>\n",
       "      <td>0.45</td>\n",
       "      <td>10.066667</td>\n",
       "      <td>15.0</td>\n",
       "      <td>22.3</td>\n",
       "      <td>32.25</td>\n",
       "      <td>45.766667</td>\n",
       "      <td>65.783333</td>\n",
       "      <td>95.0</td>\n",
       "      <td>136.1</td>\n",
       "      <td>200.6</td>\n",
       "      <td>307.466667</td>\n",
       "      <td>421.921667</td>\n",
       "      <td>6610.8</td>\n",
       "    </tr>\n",
       "  </tbody>\n",
       "</table>\n",
       "</div>"
      ],
      "text/plain": [
       "          0.00       0.05  0.10  0.20   0.30       0.40       0.50  0.60  \\\n",
       "TimeDiff  0.45  10.066667  15.0  22.3  32.25  45.766667  65.783333  95.0   \n",
       "\n",
       "           0.70   0.80        0.90        0.95    1.00  \n",
       "TimeDiff  136.1  200.6  307.466667  421.921667  6610.8  "
      ]
     },
     "execution_count": 33,
     "metadata": {},
     "output_type": "execute_result"
    }
   ],
   "source": [
    "# Percentile Distribution of Time Interval\n",
    "print(\"Time in Minutes\")\n",
    "pd.DataFrame((df_trip.TimeDiff/60).quantile([0,0.05] + list(np.round(np.arange(0.1,1,0.1),2)) + [0.95,1.00])).T"
   ]
  },
  {
   "cell_type": "markdown",
   "metadata": {},
   "source": [
    "**The median length of trip in time is around 65 Minutes**"
   ]
  },
  {
   "cell_type": "code",
   "execution_count": 36,
   "metadata": {},
   "outputs": [
    {
     "data": {
      "image/png": "[encoded data removed]",
      "text/plain": [
       "<matplotlib.figure.Figure at 0x2b5598fb4320>"
      ]
     },
     "metadata": {
      "needs_background": "light"
     },
     "output_type": "display_data"
    }
   ],
   "source": [
    "# Histogram Distribution of Log(TimeInterval)\n",
    "ax = plt.subplot()\n",
    "ax.hist(np.log2(df_trip.TimeDiff/60+ 0.01), bins =30)\n",
    "ax.xaxis.set_major_formatter(formatter)\n",
    "plt.xticks(rotation=45)\n",
    "plt.xlabel(\"Log(time interval Minutes)\")\n",
    "plt.ylabel(\"Frequency\")\n",
    "plt.show()"
   ]
  },
  {
   "cell_type": "markdown",
   "metadata": {},
   "source": [
    "**There are 2 peaks in the distribution signalling a lot of trips are sub segments of other trips.**\n",
    "1. The peak at around log value 7 corresponds to time difference of ~20minutes average length of trip.\n",
    "\n",
    "2. The peak around log value 2 corresponds to time difference of ~11seconds signalling they are subsegments of other trips.\n",
    "\n",
    "3. In city traffic condition, vehicles frequently accelerate and deacclerate thus, resulting in drop of speed below given threshold and development of these subsection of trips."
   ]
  },
  {
   "cell_type": "markdown",
   "metadata": {},
   "source": [
    "### Part 2.3: Trip Distance (Kms)"
   ]
  },
  {
   "cell_type": "code",
   "execution_count": 37,
   "metadata": {},
   "outputs": [
    {
     "name": "stdout",
     "output_type": "stream",
     "text": [
      "Distance in Kms\n"
     ]
    },
    {
     "data": {
      "text/html": [
       "<div>\n",
       "<style scoped>\n",
       "    .dataframe tbody tr th:only-of-type {\n",
       "        vertical-align: middle;\n",
       "    }\n",
       "\n",
       "    .dataframe tbody tr th {\n",
       "        vertical-align: top;\n",
       "    }\n",
       "\n",
       "    .dataframe thead th {\n",
       "        text-align: right;\n",
       "    }\n",
       "</style>\n",
       "<table border=\"1\" class=\"dataframe\">\n",
       "  <thead>\n",
       "    <tr style=\"text-align: right;\">\n",
       "      <th></th>\n",
       "      <th>0.0</th>\n",
       "      <th>0.05</th>\n",
       "      <th>0.1</th>\n",
       "      <th>0.2</th>\n",
       "      <th>0.3</th>\n",
       "      <th>0.4</th>\n",
       "      <th>0.5</th>\n",
       "      <th>0.6</th>\n",
       "      <th>0.7</th>\n",
       "      <th>0.8</th>\n",
       "      <th>0.9</th>\n",
       "      <th>0.95</th>\n",
       "      <th>1.0</th>\n",
       "    </tr>\n",
       "  </thead>\n",
       "  <tbody>\n",
       "    <tr>\n",
       "      <th>Dist</th>\n",
       "      <td>1.000097</td>\n",
       "      <td>1.824054</td>\n",
       "      <td>2.786065</td>\n",
       "      <td>5.479896</td>\n",
       "      <td>9.429567</td>\n",
       "      <td>14.952359</td>\n",
       "      <td>22.481722</td>\n",
       "      <td>32.556245</td>\n",
       "      <td>46.416669</td>\n",
       "      <td>66.208523</td>\n",
       "      <td>100.355982</td>\n",
       "      <td>136.295838</td>\n",
       "      <td>2048.845021</td>\n",
       "    </tr>\n",
       "  </tbody>\n",
       "</table>\n",
       "</div>"
      ],
      "text/plain": [
       "          0.00      0.05      0.10      0.20      0.30       0.40       0.50  \\\n",
       "Dist  1.000097  1.824054  2.786065  5.479896  9.429567  14.952359  22.481722   \n",
       "\n",
       "           0.60       0.70       0.80        0.90        0.95         1.00  \n",
       "Dist  32.556245  46.416669  66.208523  100.355982  136.295838  2048.845021  "
      ]
     },
     "execution_count": 37,
     "metadata": {},
     "output_type": "execute_result"
    }
   ],
   "source": [
    "# Percentile Distribution of Distance\n",
    "print(\"Distance in Kms\")\n",
    "pd.DataFrame(df_trip.Dist.quantile([0,0.05] + list(np.round(np.arange(0.1,1,0.1),2)) + [0.95,1.00])).T"
   ]
  },
  {
   "cell_type": "markdown",
   "metadata": {},
   "source": [
    "**40% trips travelled have distance less than 75metres**\n",
    "\n",
    "**The distance distribution is bimodal reinforcing that a lot of trip are subsections of other trips.**"
   ]
  },
  {
   "cell_type": "code",
   "execution_count": null,
   "metadata": {},
   "outputs": [],
   "source": [
    "# Histogram Distribution of Log(Distance)\n",
    "plt.hist(np.log(df_trip.Dist+ 0.00001), bins =30)\n",
    "plt.xlabel(\"Log(Distance)\")\n",
    "plt.ylabel(\"Frequency\")\n",
    "plt.show()"
   ]
  },
  {
   "cell_type": "markdown",
   "metadata": {},
   "source": [
    "### Part 2.4: Trip Average Speed (Km/Hr)"
   ]
  },
  {
   "cell_type": "code",
   "execution_count": null,
   "metadata": {},
   "outputs": [],
   "source": [
    "# Percentile Distribution of Distance\n",
    "print(\"Speed in Km/Hr\")\n",
    "pd.DataFrame(df_trip.Speed.quantile([0,0.05] + list(np.round(np.arange(0.1,1,0.1),2)) + [0.95,1.00])).T"
   ]
  },
  {
   "cell_type": "markdown",
   "metadata": {},
   "source": [
    "**50% trips have speed around 1.25km/hrs**"
   ]
  },
  {
   "cell_type": "code",
   "execution_count": null,
   "metadata": {},
   "outputs": [],
   "source": [
    "# Histogram Distribution of Log(Speed)\n",
    "plt.hist(np.log(df_trip.Speed+0.00001), bins =30)\n",
    "plt.xlabel(\"Log(Speed)\")\n",
    "plt.ylabel(\"Frequency\")\n",
    "plt.show()"
   ]
  },
  {
   "cell_type": "markdown",
   "metadata": {},
   "source": [
    "### Part 2.5: Trip Displacement (Kms)"
   ]
  },
  {
   "cell_type": "code",
   "execution_count": null,
   "metadata": {},
   "outputs": [],
   "source": [
    "# Percentile Distribution of Distance\n",
    "print(\"Displacement in Kms\")\n",
    "pd.DataFrame(df_trip.displacement.quantile([0,0.05] + list(np.round(np.arange(0.1,1,0.1),2)) + [0.95,1.00])).T"
   ]
  },
  {
   "cell_type": "markdown",
   "metadata": {},
   "source": [
    "**50% trips have displacement less than 26m**"
   ]
  },
  {
   "cell_type": "markdown",
   "metadata": {},
   "source": [
    "### Part 2.6: Displacement vs Distance of Trips"
   ]
  },
  {
   "cell_type": "code",
   "execution_count": null,
   "metadata": {},
   "outputs": [],
   "source": [
    "plt.plot(df_trip.Dist, df_trip.displacement, '.')\n",
    "plt.xlabel('Distance(Kms)')\n",
    "plt.ylabel('Displacement(Kms)')"
   ]
  },
  {
   "cell_type": "markdown",
   "metadata": {},
   "source": [
    "### Part 2.7: Distance vs Trip Length of Trips"
   ]
  },
  {
   "cell_type": "code",
   "execution_count": null,
   "metadata": {},
   "outputs": [],
   "source": [
    "plt.plot(df_trip.Count,df_trip.Dist, '.')\n",
    "plt.xlabel('Trip Length')\n",
    "plt.ylabel('Distance(kms)')"
   ]
  },
  {
   "cell_type": "markdown",
   "metadata": {},
   "source": [
    "### Part 2.8: Displacement vs Trip Length"
   ]
  },
  {
   "cell_type": "code",
   "execution_count": null,
   "metadata": {},
   "outputs": [],
   "source": [
    "plt.plot(df_trip.Count,df_trip.displacement, '.')\n",
    "plt.xlabel('Trip Length')\n",
    "plt.ylabel('Distance(kms)')"
   ]
  },
  {
   "cell_type": "code",
   "execution_count": null,
   "metadata": {},
   "outputs": [],
   "source": []
  },
  {
   "cell_type": "markdown",
   "metadata": {},
   "source": [
    "### Part 1.4(Important) : % Data Covered by Trip Length for Different Speed Thresholds "
   ]
  },
  {
   "cell_type": "markdown",
   "metadata": {},
   "source": [
    "To split trajectory into trips, in the proposed method we are going to use the drop of speed below a given threshold as a flag for stationarity.\n",
    "\n",
    "Conducting segmentation like this splits the trajectory into a number of segments of varying length and a lot of free points with length 1.\n",
    "\n",
    "These free points cannot be used further and thus results into loss of original data.\n",
    "\n",
    "We use different speed to check what % of data get lost in the form of these free data points.\n",
    "\n",
    "In the following graph we find % Data Covered in Trips with length > Given Trip Length(x-axis)."
   ]
  },
  {
   "cell_type": "code",
   "execution_count": null,
   "metadata": {},
   "outputs": [],
   "source": [
    "df_tripMain.head()"
   ]
  },
  {
   "cell_type": "code",
   "execution_count": null,
   "metadata": {},
   "outputs": [],
   "source": [
    "df_th = pd.DataFrame(columns=['th','data'])\n",
    "a = 0\n",
    "plt.figure(figsize=(18, 12))\n",
    "for th in [0.012,0.016,0.03,0.041,0.085,0.197]:\n",
    "    # stationarity\n",
    "    df_tripMain['Stationary'] = df_tripMain['Speed']<th\n",
    "    # stationarity id\n",
    "    df_tripMain['trip_id'] = df_tripMain['Stationary'].cumsum()\n",
    "    df_tripCount1 = pd.DataFrame(df_tripMain.groupby(['trip_id'])['Dist'].sum())\n",
    "    df_tripCount2 = pd.DataFrame(df_tripMain['trip_id'].value_counts())\n",
    "    df_tripCount = pd.concat([df_tripCount1, df_tripCount2], axis =1)\n",
    "    df_tripCount = df_tripCount[df_tripCount['trip_id']>2]\n",
    "    plt.subplot(2,3,a+1)\n",
    "    plt.hist(np.log(df_tripCount['Dist']), label = str(th)+'Km/hr', density=True, bins =30 )\n",
    "    plt.legend()\n",
    "    plt.xlabel('Log(Trip Distance)')\n",
    "    plt.ylabel('frequency')\n",
    "    a = a+1\n",
    "\n",
    "\n",
    "#plt.title('% Distance distributions of trips')\n",
    "\n",
    "#print(df_th.T)"
   ]
  },
  {
   "cell_type": "code",
   "execution_count": null,
   "metadata": {},
   "outputs": [],
   "source": [
    "df_th = pd.DataFrame(columns=['th','data'])\n",
    "a = 0\n",
    "for th in [0.016,0.03,0.041,0.085,0.197,0.591]:\n",
    "    # stationarity\n",
    "    df_tripMain['Stationary'] = df_tripMain['Speed']<th\n",
    "    # stationarity id\n",
    "    df_tripMain['trip_id'] = df_tripMain['Stationary'].cumsum()\n",
    "    df_tripCount = pd.DataFrame(df_tripMain['trip_id'].value_counts())\n",
    "    df_tripCount = pd.DataFrame(df_tripCount.groupby(['trip_id'])['trip_id'].sum())\n",
    "    df_tripCount['Data'] = df_tripCount['trip_id'].cumsum()\n",
    "    df_tripCount['Data'] = df_tripCount['Data']/df_tripCount['trip_id'].sum()\n",
    "    df_th.loc[a,'th']= th\n",
    "    df_th.loc[a,'data'] = 1- df_tripCount.iloc[0,1]\n",
    "    a = a + 1\n",
    "    plt.plot(np.log(df_tripCount.index), 1- df_tripCount['Data'], label = str(th)+'Km/hr')\n",
    "\n",
    "plt.legend()\n",
    "plt.title('% Data Covered in Trips with length > Given Trip Length')\n",
    "plt.xlabel('Log(Trip Length)')\n",
    "plt.ylabel('% Data Covered')\n",
    "print(df_th.T)"
   ]
  },
  {
   "cell_type": "code",
   "execution_count": null,
   "metadata": {},
   "outputs": [],
   "source": [
    "# reverting back the stationarity and trip_id to its original state\n",
    "df_tripMain['Stationary'] = df_tripMain['Speed']<0.03\n",
    "df_tripMain['trip_id'] = df_tripMain['Stationary'].cumsum()"
   ]
  }
 ],
 "metadata": {
  "kernelspec": {
   "display_name": "Python 3",
   "language": "python",
   "name": "python3"
  },
  "language_info": {
   "codemirror_mode": {
    "name": "ipython",
    "version": 3
   },
   "file_extension": ".py",
   "mimetype": "text/x-python",
   "name": "python",
   "nbconvert_exporter": "python",
   "pygments_lexer": "ipython3",
   "version": "3.6.3"
  }
 },
 "nbformat": 4,
 "nbformat_minor": 2
}
